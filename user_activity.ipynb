{
 "cells": [
  {
   "cell_type": "markdown",
   "metadata": {},
   "source": [
    "### Monthly User-Activity Report"
   ]
  },
  {
   "cell_type": "code",
   "execution_count": null,
   "metadata": {},
   "outputs": [],
   "source": [
    "from chart_helper import make_login_chart\n",
    "from queries import make_queries_get_df\n",
    "\n",
    "login_by_january_df = make_queries_get_df('''\n",
    "  SELECT status, association, CAST(login_time AS text) as date\n",
    "  FROM user_by_activity \n",
    "  WHERE month = 1;\n",
    "  ''')\n",
    "  \n",
    "login_by_january_df"
   ]
  },
  {
   "cell_type": "code",
   "execution_count": null,
   "metadata": {},
   "outputs": [],
   "source": [
    "from chart_helper import make_login_chart\n",
    "from queries import make_queries_get_df\n",
    "\n",
    "login_by_january_df = make_queries_get_df('''\n",
    "  SELECT status, association, CAST(login_time AS text) as date\n",
    "  FROM user_by_activity \n",
    "  WHERE month = 1;\n",
    "  ''')\n",
    "\n",
    "make_login_chart(login_by_january_df)"
   ]
  },
  {
   "cell_type": "code",
   "execution_count": null,
   "metadata": {},
   "outputs": [],
   "source": [
    "from chart_helper import make_login_chart\n",
    "from queries import make_queries_get_df\n",
    "\n",
    "login_by_january_df = make_queries_get_df('''\n",
    "  SELECT status, association, CAST(login_time AS text) as date\n",
    "  FROM user_by_activity \n",
    "  WHERE month = 1;\n",
    "  ''')\n",
    "  \n",
    "make_login_chart(login_by_january_df, status= 'alumnus', chart_type='line')"
   ]
  },
  {
   "cell_type": "code",
   "execution_count": null,
   "metadata": {},
   "outputs": [],
   "source": [
    "from chart_helper import make_login_chart\n",
    "from queries import make_queries_get_df\n",
    "\n",
    "login_by_january_df = make_queries_get_df('''\n",
    "  SELECT status, association, CAST(login_time AS text) as date\n",
    "  FROM user_by_activity \n",
    "  WHERE month = 1;\n",
    "  ''')\n",
    "  \n",
    "make_login_chart(login_by_january_df, association='uniA', status=None, frequency='d')"
   ]
  },
  {
   "cell_type": "code",
   "execution_count": null,
   "metadata": {},
   "outputs": [],
   "source": [
    "from chart_helper import make_login_chart\n",
    "from queries import make_queries_get_df\n",
    "\n",
    "login_by_january_df = make_queries_get_df('''\n",
    "  SELECT status, association, CAST(login_time AS text) as date\n",
    "  FROM user_by_activity \n",
    "  WHERE month = 1;\n",
    "  ''')\n",
    "\n",
    "make_login_chart(login_by_january_df, association='uniB', status='teacher', frequency='w')"
   ]
  },
  {
   "cell_type": "code",
   "execution_count": null,
   "metadata": {},
   "outputs": [],
   "source": [
    "from chart_helper import make_login_chart\n",
    "from queries import make_queries_get_df\n",
    "\n",
    "login_by_january_df = make_queries_get_df('''\n",
    "  SELECT status, association, CAST(login_time AS text) as date\n",
    "  FROM user_by_activity \n",
    "  WHERE month = 1;\n",
    "  ''')\n",
    "\n",
    "make_login_chart(login_by_january_df, 'January', 'uniC', 'alumnus', 'w', 'line')"
   ]
  },
  {
   "cell_type": "code",
   "execution_count": null,
   "metadata": {},
   "outputs": [],
   "source": []
  }
 ],
 "metadata": {
  "language_info": {
   "codemirror_mode": {
    "name": "ipython",
    "version": 3
   },
   "file_extension": ".py",
   "mimetype": "text/x-python",
   "name": "python",
   "nbconvert_exporter": "python",
   "pygments_lexer": "ipython3",
   "version": "3.8.3-final"
  },
  "orig_nbformat": 2,
  "kernelspec": {
   "language": "python",
   "name": "python38364bit2021e240fa0b450c871765cfc61481f0",
   "display_name": "Python 3.8.3 64-bit"
  }
 },
 "nbformat": 4,
 "nbformat_minor": 2
}