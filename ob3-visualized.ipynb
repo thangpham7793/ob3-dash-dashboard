{
 "cells": [
  {
   "cell_type": "markdown",
   "metadata": {},
   "source": [
    "## SET UP"
   ]
  },
  {
   "cell_type": "code",
   "execution_count": null,
   "metadata": {},
   "outputs": [],
   "source": [
    "#GET DATA FROM CASSANDRA AS DATAFRAME\n",
    "from queries import make_queries_get_df\n",
    "#FOR MANIPULATING DATAFRAME\n",
    "import pandas as pd\n",
    "#FOR MAKING QUICK CHARTS\n",
    "import chart_helper\n",
    "#PLOTTING (THIS IS OPTIONAL IF YOU WISH TO TWEAK A CHART FURTHER)\n",
    "import plotly.express as px"
   ]
  },
  {
   "cell_type": "markdown",
   "metadata": {},
   "source": [
    "## 1st Example: Total File Usage Across All Courses\n",
    "\n",
    "The following query can be used to get an overview of file usage across different courses. If needed, the table can also add an extra layer of grouping such as department and university."
   ]
  },
  {
   "cell_type": "markdown",
   "metadata": {},
   "source": [
    "### Step 1: Get the Data from Cassandra\n",
    "\n",
    "Notice that Python only transforms the result into a table and visualise it into a sunburst chart, as the data is already prepared by Cassandra.  \n",
    "\n",
    "The actual query can be seen in the *string* argument passed onto the make_queries_get_df() function."
   ]
  },
  {
   "cell_type": "code",
   "execution_count": 23,
   "metadata": {},
   "outputs": [
    {
     "output_type": "display_data",
     "data": {
      "application/vnd.plotly.v1+json": {
       "config": {
        "plotlyServerURL": "https://plot.ly"
       },
       "data": [
        {
         "branchvalues": "total",
         "customdata": [
          [
           0.57
          ],
          [
           0.06
          ],
          [
           0.77
          ],
          [
           0.78
          ],
          [
           0.71
          ],
          [
           1.21
          ],
          [
           0.83
          ],
          [
           2.01
          ],
          [
           2.59
          ],
          [
           0.88
          ],
          [
           0.41
          ],
          [
           0.06
          ],
          [
           2.31
          ],
          [
           1.85
          ],
          [
           0.88
          ],
          [
           1.52
          ],
          [
           1.38
          ],
          [
           1.48
          ],
          [
           0.82
          ],
          [
           1.9
          ],
          [
           1.79
          ],
          [
           2.69
          ],
          [
           0.91
          ],
          [
           1.69
          ],
          [
           0.48
          ],
          [
           0.47
          ],
          [
           1.16
          ],
          [
           1.31
          ],
          [
           1.53
          ],
          [
           1.74
          ],
          [
           0.77
          ],
          [
           1.09
          ],
          [
           1.41
          ],
          [
           1.34
          ],
          [
           2.43
          ],
          [
           1.98
          ],
          [
           0.48
          ],
          [
           0.44
          ],
          [
           0.92
          ],
          [
           0.49
          ],
          [
           0.64
          ],
          [
           1.21
          ],
          [
           2.05
          ],
          [
           0.8
          ],
          [
           0.73
          ],
          [
           1.19
          ],
          [
           0.94
          ],
          [
           0.97
          ],
          [
           0.76
          ],
          [
           0.57
          ],
          [
           0.37
          ],
          [
           0.36
          ],
          [
           0.36
          ],
          [
           0.96
          ],
          [
           0.34
          ],
          [
           0.64
          ],
          [
           0.07
          ],
          [
           0.75
          ],
          [
           0.08
          ],
          [
           0.82
          ],
          [
           2.52
          ],
          [
           1.13
          ],
          [
           0.39
          ],
          [
           0.45
          ],
          [
           0.3
          ],
          [
           0.37
          ],
          [
           0.16
          ],
          [
           0.68
          ],
          [
           1.14
          ],
          [
           1.72
          ],
          [
           1.24
          ],
          [
           1.3
          ],
          [
           1.02
          ],
          [
           0.89
          ],
          [
           1.16
          ],
          [
           2
          ],
          [
           1.03
          ],
          [
           2.02
          ],
          [
           2.13
          ],
          [
           0.72
          ],
          [
           0.99
          ],
          [
           1.54
          ],
          [
           2.15
          ],
          [
           2.65
          ],
          [
           1.88
          ],
          [
           0.73
          ],
          [
           0.67
          ],
          [
           1.16
          ],
          [
           0.75
          ],
          [
           2.02
          ],
          [
           0.67
          ],
          [
           0.75
          ],
          [
           0.29
          ],
          [
           0.35
          ],
          [
           0.59
          ],
          [
           1.18
          ],
          [
           0.87
          ],
          [
           1.33
          ],
          [
           0.7
          ],
          [
           1.08
          ],
          [
           2.01
          ],
          [
           1.02
          ],
          [
           0.55
          ],
          [
           0.09
          ],
          [
           0.44
          ],
          [
           1.75
          ],
          [
           2.41
          ],
          [
           2.01
          ],
          [
           1.89
          ],
          [
           2.06
          ],
          [
           1.65
          ],
          [
           2.12
          ],
          [
           1.75
          ],
          [
           1.15
          ],
          [
           0.97
          ],
          [
           1.19
          ],
          [
           0.5
          ],
          [
           2.4
          ],
          [
           0.55
          ],
          [
           1.67
          ],
          [
           1.08
          ],
          [
           4.04
          ],
          [
           6.08
          ],
          [
           8.18
          ],
          [
           10.03
          ],
          [
           5.96
          ],
          [
           7.14
          ],
          [
           6.779999999999999
          ],
          [
           6.559999999999999
          ],
          [
           10.36
          ],
          [
           10.459999999999999
          ],
          [
           7.949999999999999
          ],
          [
           6.4
          ],
          [
           7.35
          ],
          [
           7.33
          ],
          [
           9.22
          ],
          [
           7.999999999999999
          ],
          [
           8.48
          ],
          [
           6.41
          ],
          [
           18.3
          ],
          [
           23.13
          ],
          [
           23.699999999999996
          ],
          [
           24.81
          ],
          [
           23.900000000000002
          ],
          [
           22.890000000000004
          ],
          [
           41.43000000000001
          ],
          [
           48.50999999999999
          ],
          [
           46.790000000000006
          ]
         ],
         "domain": {
          "x": [
           0,
           1
          ],
          "y": [
           0,
           1
          ]
         },
         "hovertemplate": "<b>%{label}</b><br><br>File Usage: %{value} MB<br>Count: %{color: .0f}",
         "ids": [
          "courseA/paperA1/docA11/attachment",
          "courseA/paperA1/docA12/attachment",
          "courseA/paperA1/docA13/attachment",
          "courseA/paperA2/docA21/attachment",
          "courseA/paperA2/docA22/attachment",
          "courseA/paperA2/docA23/attachment",
          "courseB/paperB1/docB11/attachment",
          "courseB/paperB1/docB12/attachment",
          "courseB/paperB1/docB13/attachment",
          "courseB/paperB2/docB21/attachment",
          "courseB/paperB2/docB22/attachment",
          "courseB/paperB2/docB23/attachment",
          "courseC/paperC1/docC11/attachment",
          "courseC/paperC1/docC12/attachment",
          "courseC/paperC1/docC13/attachment",
          "courseC/paperC2/docC21/attachment",
          "courseC/paperC2/docC22/attachment",
          "courseC/paperC2/docC23/attachment",
          "courseA/paperA1/docA11/audio",
          "courseA/paperA1/docA12/audio",
          "courseA/paperA1/docA13/audio",
          "courseA/paperA2/docA21/audio",
          "courseA/paperA2/docA22/audio",
          "courseA/paperA2/docA23/audio",
          "courseB/paperB1/docB11/audio",
          "courseB/paperB1/docB12/audio",
          "courseB/paperB1/docB13/audio",
          "courseB/paperB2/docB21/audio",
          "courseB/paperB2/docB22/audio",
          "courseB/paperB2/docB23/audio",
          "courseC/paperC1/docC11/audio",
          "courseC/paperC1/docC12/audio",
          "courseC/paperC1/docC13/audio",
          "courseC/paperC2/docC21/audio",
          "courseC/paperC2/docC22/audio",
          "courseC/paperC2/docC23/audio",
          "courseA/paperA1/docA11/comment",
          "courseA/paperA1/docA12/comment",
          "courseA/paperA1/docA13/comment",
          "courseA/paperA2/docA21/comment",
          "courseA/paperA2/docA23/comment",
          "courseB/paperB1/docB11/comment",
          "courseB/paperB1/docB13/comment",
          "courseB/paperB2/docB21/comment",
          "courseB/paperB2/docB22/comment",
          "courseB/paperB2/docB23/comment",
          "courseC/paperC1/docC11/comment",
          "courseC/paperC1/docC12/comment",
          "courseC/paperC2/docC21/comment",
          "courseC/paperC2/docC22/comment",
          "courseC/paperC2/docC23/comment",
          "courseA/paperA1/docA11/discussion",
          "courseA/paperA1/docA12/discussion",
          "courseA/paperA1/docA13/discussion",
          "courseA/paperA2/docA21/discussion",
          "courseA/paperA2/docA22/discussion",
          "courseA/paperA2/docA23/discussion",
          "courseB/paperB1/docB11/discussion",
          "courseB/paperB1/docB12/discussion",
          "courseB/paperB1/docB13/discussion",
          "courseB/paperB2/docB21/discussion",
          "courseB/paperB2/docB22/discussion",
          "courseB/paperB2/docB23/discussion",
          "courseC/paperC1/docC11/discussion",
          "courseC/paperC1/docC12/discussion",
          "courseC/paperC1/docC13/discussion",
          "courseC/paperC2/docC21/discussion",
          "courseC/paperC2/docC23/discussion",
          "courseA/paperA1/docA11/image",
          "courseA/paperA1/docA12/image",
          "courseA/paperA1/docA13/image",
          "courseA/paperA2/docA21/image",
          "courseA/paperA2/docA22/image",
          "courseA/paperA2/docA23/image",
          "courseB/paperB1/docB11/image",
          "courseB/paperB1/docB12/image",
          "courseB/paperB1/docB13/image",
          "courseB/paperB2/docB21/image",
          "courseB/paperB2/docB22/image",
          "courseB/paperB2/docB23/image",
          "courseC/paperC1/docC11/image",
          "courseC/paperC1/docC12/image",
          "courseC/paperC1/docC13/image",
          "courseC/paperC2/docC21/image",
          "courseC/paperC2/docC22/image",
          "courseC/paperC2/docC23/image",
          "courseA/paperA1/docA11/paragraph",
          "courseA/paperA1/docA12/paragraph",
          "courseA/paperA1/docA13/paragraph",
          "courseA/paperA2/docA21/paragraph",
          "courseA/paperA2/docA22/paragraph",
          "courseA/paperA2/docA23/paragraph",
          "courseB/paperB1/docB11/paragraph",
          "courseB/paperB1/docB12/paragraph",
          "courseB/paperB1/docB13/paragraph",
          "courseB/paperB2/docB21/paragraph",
          "courseB/paperB2/docB22/paragraph",
          "courseB/paperB2/docB23/paragraph",
          "courseC/paperC1/docC11/paragraph",
          "courseC/paperC1/docC12/paragraph",
          "courseC/paperC1/docC13/paragraph",
          "courseC/paperC2/docC21/paragraph",
          "courseC/paperC2/docC22/paragraph",
          "courseC/paperC2/docC23/paragraph",
          "courseA/paperA1/docA12/video",
          "courseA/paperA1/docA13/video",
          "courseA/paperA2/docA21/video",
          "courseA/paperA2/docA22/video",
          "courseA/paperA2/docA23/video",
          "courseB/paperB1/docB11/video",
          "courseB/paperB1/docB12/video",
          "courseB/paperB1/docB13/video",
          "courseB/paperB2/docB21/video",
          "courseB/paperB2/docB22/video",
          "courseB/paperB2/docB23/video",
          "courseC/paperC1/docC11/video",
          "courseC/paperC1/docC12/video",
          "courseC/paperC1/docC13/video",
          "courseC/paperC2/docC21/video",
          "courseC/paperC2/docC22/video",
          "courseC/paperC2/docC23/video",
          "courseA/paperA1/docA11",
          "courseA/paperA1/docA12",
          "courseA/paperA1/docA13",
          "courseA/paperA2/docA21",
          "courseA/paperA2/docA22",
          "courseA/paperA2/docA23",
          "courseB/paperB1/docB11",
          "courseB/paperB1/docB12",
          "courseB/paperB1/docB13",
          "courseB/paperB2/docB21",
          "courseB/paperB2/docB22",
          "courseB/paperB2/docB23",
          "courseC/paperC1/docC11",
          "courseC/paperC1/docC12",
          "courseC/paperC1/docC13",
          "courseC/paperC2/docC21",
          "courseC/paperC2/docC22",
          "courseC/paperC2/docC23",
          "courseA/paperA1",
          "courseA/paperA2",
          "courseB/paperB1",
          "courseB/paperB2",
          "courseC/paperC1",
          "courseC/paperC2",
          "courseA",
          "courseB",
          "courseC"
         ],
         "labels": [
          "attachment",
          "attachment",
          "attachment",
          "attachment",
          "attachment",
          "attachment",
          "attachment",
          "attachment",
          "attachment",
          "attachment",
          "attachment",
          "attachment",
          "attachment",
          "attachment",
          "attachment",
          "attachment",
          "attachment",
          "attachment",
          "audio",
          "audio",
          "audio",
          "audio",
          "audio",
          "audio",
          "audio",
          "audio",
          "audio",
          "audio",
          "audio",
          "audio",
          "audio",
          "audio",
          "audio",
          "audio",
          "audio",
          "audio",
          "comment",
          "comment",
          "comment",
          "comment",
          "comment",
          "comment",
          "comment",
          "comment",
          "comment",
          "comment",
          "comment",
          "comment",
          "comment",
          "comment",
          "comment",
          "discussion",
          "discussion",
          "discussion",
          "discussion",
          "discussion",
          "discussion",
          "discussion",
          "discussion",
          "discussion",
          "discussion",
          "discussion",
          "discussion",
          "discussion",
          "discussion",
          "discussion",
          "discussion",
          "discussion",
          "image",
          "image",
          "image",
          "image",
          "image",
          "image",
          "image",
          "image",
          "image",
          "image",
          "image",
          "image",
          "image",
          "image",
          "image",
          "image",
          "image",
          "image",
          "paragraph",
          "paragraph",
          "paragraph",
          "paragraph",
          "paragraph",
          "paragraph",
          "paragraph",
          "paragraph",
          "paragraph",
          "paragraph",
          "paragraph",
          "paragraph",
          "paragraph",
          "paragraph",
          "paragraph",
          "paragraph",
          "paragraph",
          "paragraph",
          "video",
          "video",
          "video",
          "video",
          "video",
          "video",
          "video",
          "video",
          "video",
          "video",
          "video",
          "video",
          "video",
          "video",
          "video",
          "video",
          "video",
          "docA11",
          "docA12",
          "docA13",
          "docA21",
          "docA22",
          "docA23",
          "docB11",
          "docB12",
          "docB13",
          "docB21",
          "docB22",
          "docB23",
          "docC11",
          "docC12",
          "docC13",
          "docC21",
          "docC22",
          "docC23",
          "paperA1",
          "paperA2",
          "paperB1",
          "paperB2",
          "paperC1",
          "paperC2",
          "courseA",
          "courseB",
          "courseC"
         ],
         "marker": {
          "coloraxis": "coloraxis",
          "colors": [
           0.57,
           0.06,
           0.77,
           0.78,
           0.71,
           1.21,
           0.83,
           2.01,
           2.59,
           0.88,
           0.41,
           0.06,
           2.31,
           1.85,
           0.88,
           1.52,
           1.38,
           1.48,
           0.82,
           1.9,
           1.79,
           2.69,
           0.91,
           1.69,
           0.48,
           0.47,
           1.16,
           1.31,
           1.53,
           1.74,
           0.77,
           1.09,
           1.41,
           1.34,
           2.43,
           1.98,
           0.48,
           0.44,
           0.92,
           0.49,
           0.64,
           1.21,
           2.05,
           0.8,
           0.73,
           1.19,
           0.94,
           0.97,
           0.76,
           0.57,
           0.37,
           0.36,
           0.36,
           0.96,
           0.34,
           0.64,
           0.07,
           0.75,
           0.08,
           0.82,
           2.52,
           1.13,
           0.39,
           0.45,
           0.3,
           0.37,
           0.16,
           0.68,
           1.14,
           1.72,
           1.24,
           1.3,
           1.02,
           0.89,
           1.16,
           2,
           1.03,
           2.02,
           2.13,
           0.72,
           0.99,
           1.54,
           2.15,
           2.65,
           1.88,
           0.73,
           0.67,
           1.16,
           0.75,
           2.02,
           0.67,
           0.75,
           0.29,
           0.35,
           0.59,
           1.18,
           0.87,
           1.33,
           0.7,
           1.08,
           2.01,
           1.02,
           0.55,
           0.09,
           0.44,
           1.75,
           2.41,
           2.01,
           1.89,
           2.06,
           1.65,
           2.12,
           1.75,
           1.15,
           0.97,
           1.19,
           0.5,
           2.4,
           0.55,
           1.67,
           1.08,
           4.04,
           6.08,
           8.18,
           10.03,
           5.96,
           7.14,
           6.779999999999999,
           6.559999999999999,
           10.36,
           10.459999999999999,
           7.949999999999999,
           6.4,
           7.35,
           7.33,
           9.22,
           7.999999999999999,
           8.48,
           6.41,
           18.3,
           23.13,
           23.699999999999996,
           24.81,
           23.900000000000002,
           22.890000000000004,
           41.43000000000001,
           48.50999999999999,
           46.790000000000006
          ]
         },
         "maxdepth": 2,
         "name": "",
         "parents": [
          "courseA/paperA1/docA11",
          "courseA/paperA1/docA12",
          "courseA/paperA1/docA13",
          "courseA/paperA2/docA21",
          "courseA/paperA2/docA22",
          "courseA/paperA2/docA23",
          "courseB/paperB1/docB11",
          "courseB/paperB1/docB12",
          "courseB/paperB1/docB13",
          "courseB/paperB2/docB21",
          "courseB/paperB2/docB22",
          "courseB/paperB2/docB23",
          "courseC/paperC1/docC11",
          "courseC/paperC1/docC12",
          "courseC/paperC1/docC13",
          "courseC/paperC2/docC21",
          "courseC/paperC2/docC22",
          "courseC/paperC2/docC23",
          "courseA/paperA1/docA11",
          "courseA/paperA1/docA12",
          "courseA/paperA1/docA13",
          "courseA/paperA2/docA21",
          "courseA/paperA2/docA22",
          "courseA/paperA2/docA23",
          "courseB/paperB1/docB11",
          "courseB/paperB1/docB12",
          "courseB/paperB1/docB13",
          "courseB/paperB2/docB21",
          "courseB/paperB2/docB22",
          "courseB/paperB2/docB23",
          "courseC/paperC1/docC11",
          "courseC/paperC1/docC12",
          "courseC/paperC1/docC13",
          "courseC/paperC2/docC21",
          "courseC/paperC2/docC22",
          "courseC/paperC2/docC23",
          "courseA/paperA1/docA11",
          "courseA/paperA1/docA12",
          "courseA/paperA1/docA13",
          "courseA/paperA2/docA21",
          "courseA/paperA2/docA23",
          "courseB/paperB1/docB11",
          "courseB/paperB1/docB13",
          "courseB/paperB2/docB21",
          "courseB/paperB2/docB22",
          "courseB/paperB2/docB23",
          "courseC/paperC1/docC11",
          "courseC/paperC1/docC12",
          "courseC/paperC2/docC21",
          "courseC/paperC2/docC22",
          "courseC/paperC2/docC23",
          "courseA/paperA1/docA11",
          "courseA/paperA1/docA12",
          "courseA/paperA1/docA13",
          "courseA/paperA2/docA21",
          "courseA/paperA2/docA22",
          "courseA/paperA2/docA23",
          "courseB/paperB1/docB11",
          "courseB/paperB1/docB12",
          "courseB/paperB1/docB13",
          "courseB/paperB2/docB21",
          "courseB/paperB2/docB22",
          "courseB/paperB2/docB23",
          "courseC/paperC1/docC11",
          "courseC/paperC1/docC12",
          "courseC/paperC1/docC13",
          "courseC/paperC2/docC21",
          "courseC/paperC2/docC23",
          "courseA/paperA1/docA11",
          "courseA/paperA1/docA12",
          "courseA/paperA1/docA13",
          "courseA/paperA2/docA21",
          "courseA/paperA2/docA22",
          "courseA/paperA2/docA23",
          "courseB/paperB1/docB11",
          "courseB/paperB1/docB12",
          "courseB/paperB1/docB13",
          "courseB/paperB2/docB21",
          "courseB/paperB2/docB22",
          "courseB/paperB2/docB23",
          "courseC/paperC1/docC11",
          "courseC/paperC1/docC12",
          "courseC/paperC1/docC13",
          "courseC/paperC2/docC21",
          "courseC/paperC2/docC22",
          "courseC/paperC2/docC23",
          "courseA/paperA1/docA11",
          "courseA/paperA1/docA12",
          "courseA/paperA1/docA13",
          "courseA/paperA2/docA21",
          "courseA/paperA2/docA22",
          "courseA/paperA2/docA23",
          "courseB/paperB1/docB11",
          "courseB/paperB1/docB12",
          "courseB/paperB1/docB13",
          "courseB/paperB2/docB21",
          "courseB/paperB2/docB22",
          "courseB/paperB2/docB23",
          "courseC/paperC1/docC11",
          "courseC/paperC1/docC12",
          "courseC/paperC1/docC13",
          "courseC/paperC2/docC21",
          "courseC/paperC2/docC22",
          "courseC/paperC2/docC23",
          "courseA/paperA1/docA12",
          "courseA/paperA1/docA13",
          "courseA/paperA2/docA21",
          "courseA/paperA2/docA22",
          "courseA/paperA2/docA23",
          "courseB/paperB1/docB11",
          "courseB/paperB1/docB12",
          "courseB/paperB1/docB13",
          "courseB/paperB2/docB21",
          "courseB/paperB2/docB22",
          "courseB/paperB2/docB23",
          "courseC/paperC1/docC11",
          "courseC/paperC1/docC12",
          "courseC/paperC1/docC13",
          "courseC/paperC2/docC21",
          "courseC/paperC2/docC22",
          "courseC/paperC2/docC23",
          "courseA/paperA1",
          "courseA/paperA1",
          "courseA/paperA1",
          "courseA/paperA2",
          "courseA/paperA2",
          "courseA/paperA2",
          "courseB/paperB1",
          "courseB/paperB1",
          "courseB/paperB1",
          "courseB/paperB2",
          "courseB/paperB2",
          "courseB/paperB2",
          "courseC/paperC1",
          "courseC/paperC1",
          "courseC/paperC1",
          "courseC/paperC2",
          "courseC/paperC2",
          "courseC/paperC2",
          "courseA",
          "courseA",
          "courseB",
          "courseB",
          "courseC",
          "courseC",
          "",
          "",
          ""
         ],
         "type": "sunburst",
         "values": [
          0.57,
          0.06,
          0.77,
          0.78,
          0.71,
          1.21,
          0.83,
          2.01,
          2.59,
          0.88,
          0.41,
          0.06,
          2.31,
          1.85,
          0.88,
          1.52,
          1.38,
          1.48,
          0.82,
          1.9,
          1.79,
          2.69,
          0.91,
          1.69,
          0.48,
          0.47,
          1.16,
          1.31,
          1.53,
          1.74,
          0.77,
          1.09,
          1.41,
          1.34,
          2.43,
          1.98,
          0.48,
          0.44,
          0.92,
          0.49,
          0.64,
          1.21,
          2.05,
          0.8,
          0.73,
          1.19,
          0.94,
          0.97,
          0.76,
          0.57,
          0.37,
          0.36,
          0.36,
          0.96,
          0.34,
          0.64,
          0.07,
          0.75,
          0.08,
          0.82,
          2.52,
          1.13,
          0.39,
          0.45,
          0.3,
          0.37,
          0.16,
          0.68,
          1.14,
          1.72,
          1.24,
          1.3,
          1.02,
          0.89,
          1.16,
          2,
          1.03,
          2.02,
          2.13,
          0.72,
          0.99,
          1.54,
          2.15,
          2.65,
          1.88,
          0.73,
          0.67,
          1.16,
          0.75,
          2.02,
          0.67,
          0.75,
          0.29,
          0.35,
          0.59,
          1.18,
          0.87,
          1.33,
          0.7,
          1.08,
          2.01,
          1.02,
          0.55,
          0.09,
          0.44,
          1.75,
          2.41,
          2.01,
          1.89,
          2.06,
          1.65,
          2.12,
          1.75,
          1.15,
          0.97,
          1.19,
          0.5,
          2.4,
          0.55,
          1.67,
          1.08,
          4.04,
          6.08,
          8.18,
          10.03,
          5.96,
          7.14,
          6.779999999999999,
          6.559999999999999,
          10.36,
          10.459999999999999,
          7.949999999999999,
          6.4,
          7.35,
          7.33,
          9.22,
          7.999999999999999,
          8.48,
          6.41,
          18.3,
          23.13,
          23.699999999999996,
          24.81,
          23.900000000000002,
          22.890000000000004,
          41.43000000000001,
          48.50999999999999,
          46.790000000000006
         ]
        }
       ],
       "layout": {
        "coloraxis": {
         "cmax": 60,
         "cmid": 1.1300000000000001,
         "cmin": 0,
         "colorbar": {
          "title": {
           "text": "size_in_mb"
          }
         },
         "colorscale": [
          [
           0,
           "rgb(255,245,240)"
          ],
          [
           0.125,
           "rgb(254,224,210)"
          ],
          [
           0.25,
           "rgb(252,187,161)"
          ],
          [
           0.375,
           "rgb(252,146,114)"
          ],
          [
           0.5,
           "rgb(251,106,74)"
          ],
          [
           0.625,
           "rgb(239,59,44)"
          ],
          [
           0.75,
           "rgb(203,24,29)"
          ],
          [
           0.875,
           "rgb(165,15,21)"
          ],
          [
           1,
           "rgb(103,0,13)"
          ]
         ]
        },
        "legend": {
         "tracegroupgap": 0
        },
        "margin": {
         "t": 60
        },
        "template": {
         "data": {
          "bar": [
           {
            "error_x": {
             "color": "#2a3f5f"
            },
            "error_y": {
             "color": "#2a3f5f"
            },
            "marker": {
             "line": {
              "color": "#E5ECF6",
              "width": 0.5
             }
            },
            "type": "bar"
           }
          ],
          "barpolar": [
           {
            "marker": {
             "line": {
              "color": "#E5ECF6",
              "width": 0.5
             }
            },
            "type": "barpolar"
           }
          ],
          "carpet": [
           {
            "aaxis": {
             "endlinecolor": "#2a3f5f",
             "gridcolor": "white",
             "linecolor": "white",
             "minorgridcolor": "white",
             "startlinecolor": "#2a3f5f"
            },
            "baxis": {
             "endlinecolor": "#2a3f5f",
             "gridcolor": "white",
             "linecolor": "white",
             "minorgridcolor": "white",
             "startlinecolor": "#2a3f5f"
            },
            "type": "carpet"
           }
          ],
          "choropleth": [
           {
            "colorbar": {
             "outlinewidth": 0,
             "ticks": ""
            },
            "type": "choropleth"
           }
          ],
          "contour": [
           {
            "colorbar": {
             "outlinewidth": 0,
             "ticks": ""
            },
            "colorscale": [
             [
              0,
              "#0d0887"
             ],
             [
              0.1111111111111111,
              "#46039f"
             ],
             [
              0.2222222222222222,
              "#7201a8"
             ],
             [
              0.3333333333333333,
              "#9c179e"
             ],
             [
              0.4444444444444444,
              "#bd3786"
             ],
             [
              0.5555555555555556,
              "#d8576b"
             ],
             [
              0.6666666666666666,
              "#ed7953"
             ],
             [
              0.7777777777777778,
              "#fb9f3a"
             ],
             [
              0.8888888888888888,
              "#fdca26"
             ],
             [
              1,
              "#f0f921"
             ]
            ],
            "type": "contour"
           }
          ],
          "contourcarpet": [
           {
            "colorbar": {
             "outlinewidth": 0,
             "ticks": ""
            },
            "type": "contourcarpet"
           }
          ],
          "heatmap": [
           {
            "colorbar": {
             "outlinewidth": 0,
             "ticks": ""
            },
            "colorscale": [
             [
              0,
              "#0d0887"
             ],
             [
              0.1111111111111111,
              "#46039f"
             ],
             [
              0.2222222222222222,
              "#7201a8"
             ],
             [
              0.3333333333333333,
              "#9c179e"
             ],
             [
              0.4444444444444444,
              "#bd3786"
             ],
             [
              0.5555555555555556,
              "#d8576b"
             ],
             [
              0.6666666666666666,
              "#ed7953"
             ],
             [
              0.7777777777777778,
              "#fb9f3a"
             ],
             [
              0.8888888888888888,
              "#fdca26"
             ],
             [
              1,
              "#f0f921"
             ]
            ],
            "type": "heatmap"
           }
          ],
          "heatmapgl": [
           {
            "colorbar": {
             "outlinewidth": 0,
             "ticks": ""
            },
            "colorscale": [
             [
              0,
              "#0d0887"
             ],
             [
              0.1111111111111111,
              "#46039f"
             ],
             [
              0.2222222222222222,
              "#7201a8"
             ],
             [
              0.3333333333333333,
              "#9c179e"
             ],
             [
              0.4444444444444444,
              "#bd3786"
             ],
             [
              0.5555555555555556,
              "#d8576b"
             ],
             [
              0.6666666666666666,
              "#ed7953"
             ],
             [
              0.7777777777777778,
              "#fb9f3a"
             ],
             [
              0.8888888888888888,
              "#fdca26"
             ],
             [
              1,
              "#f0f921"
             ]
            ],
            "type": "heatmapgl"
           }
          ],
          "histogram": [
           {
            "marker": {
             "colorbar": {
              "outlinewidth": 0,
              "ticks": ""
             }
            },
            "type": "histogram"
           }
          ],
          "histogram2d": [
           {
            "colorbar": {
             "outlinewidth": 0,
             "ticks": ""
            },
            "colorscale": [
             [
              0,
              "#0d0887"
             ],
             [
              0.1111111111111111,
              "#46039f"
             ],
             [
              0.2222222222222222,
              "#7201a8"
             ],
             [
              0.3333333333333333,
              "#9c179e"
             ],
             [
              0.4444444444444444,
              "#bd3786"
             ],
             [
              0.5555555555555556,
              "#d8576b"
             ],
             [
              0.6666666666666666,
              "#ed7953"
             ],
             [
              0.7777777777777778,
              "#fb9f3a"
             ],
             [
              0.8888888888888888,
              "#fdca26"
             ],
             [
              1,
              "#f0f921"
             ]
            ],
            "type": "histogram2d"
           }
          ],
          "histogram2dcontour": [
           {
            "colorbar": {
             "outlinewidth": 0,
             "ticks": ""
            },
            "colorscale": [
             [
              0,
              "#0d0887"
             ],
             [
              0.1111111111111111,
              "#46039f"
             ],
             [
              0.2222222222222222,
              "#7201a8"
             ],
             [
              0.3333333333333333,
              "#9c179e"
             ],
             [
              0.4444444444444444,
              "#bd3786"
             ],
             [
              0.5555555555555556,
              "#d8576b"
             ],
             [
              0.6666666666666666,
              "#ed7953"
             ],
             [
              0.7777777777777778,
              "#fb9f3a"
             ],
             [
              0.8888888888888888,
              "#fdca26"
             ],
             [
              1,
              "#f0f921"
             ]
            ],
            "type": "histogram2dcontour"
           }
          ],
          "mesh3d": [
           {
            "colorbar": {
             "outlinewidth": 0,
             "ticks": ""
            },
            "type": "mesh3d"
           }
          ],
          "parcoords": [
           {
            "line": {
             "colorbar": {
              "outlinewidth": 0,
              "ticks": ""
             }
            },
            "type": "parcoords"
           }
          ],
          "pie": [
           {
            "automargin": true,
            "type": "pie"
           }
          ],
          "scatter": [
           {
            "marker": {
             "colorbar": {
              "outlinewidth": 0,
              "ticks": ""
             }
            },
            "type": "scatter"
           }
          ],
          "scatter3d": [
           {
            "line": {
             "colorbar": {
              "outlinewidth": 0,
              "ticks": ""
             }
            },
            "marker": {
             "colorbar": {
              "outlinewidth": 0,
              "ticks": ""
             }
            },
            "type": "scatter3d"
           }
          ],
          "scattercarpet": [
           {
            "marker": {
             "colorbar": {
              "outlinewidth": 0,
              "ticks": ""
             }
            },
            "type": "scattercarpet"
           }
          ],
          "scattergeo": [
           {
            "marker": {
             "colorbar": {
              "outlinewidth": 0,
              "ticks": ""
             }
            },
            "type": "scattergeo"
           }
          ],
          "scattergl": [
           {
            "marker": {
             "colorbar": {
              "outlinewidth": 0,
              "ticks": ""
             }
            },
            "type": "scattergl"
           }
          ],
          "scattermapbox": [
           {
            "marker": {
             "colorbar": {
              "outlinewidth": 0,
              "ticks": ""
             }
            },
            "type": "scattermapbox"
           }
          ],
          "scatterpolar": [
           {
            "marker": {
             "colorbar": {
              "outlinewidth": 0,
              "ticks": ""
             }
            },
            "type": "scatterpolar"
           }
          ],
          "scatterpolargl": [
           {
            "marker": {
             "colorbar": {
              "outlinewidth": 0,
              "ticks": ""
             }
            },
            "type": "scatterpolargl"
           }
          ],
          "scatterternary": [
           {
            "marker": {
             "colorbar": {
              "outlinewidth": 0,
              "ticks": ""
             }
            },
            "type": "scatterternary"
           }
          ],
          "surface": [
           {
            "colorbar": {
             "outlinewidth": 0,
             "ticks": ""
            },
            "colorscale": [
             [
              0,
              "#0d0887"
             ],
             [
              0.1111111111111111,
              "#46039f"
             ],
             [
              0.2222222222222222,
              "#7201a8"
             ],
             [
              0.3333333333333333,
              "#9c179e"
             ],
             [
              0.4444444444444444,
              "#bd3786"
             ],
             [
              0.5555555555555556,
              "#d8576b"
             ],
             [
              0.6666666666666666,
              "#ed7953"
             ],
             [
              0.7777777777777778,
              "#fb9f3a"
             ],
             [
              0.8888888888888888,
              "#fdca26"
             ],
             [
              1,
              "#f0f921"
             ]
            ],
            "type": "surface"
           }
          ],
          "table": [
           {
            "cells": {
             "fill": {
              "color": "#EBF0F8"
             },
             "line": {
              "color": "white"
             }
            },
            "header": {
             "fill": {
              "color": "#C8D4E3"
             },
             "line": {
              "color": "white"
             }
            },
            "type": "table"
           }
          ]
         },
         "layout": {
          "annotationdefaults": {
           "arrowcolor": "#2a3f5f",
           "arrowhead": 0,
           "arrowwidth": 1
          },
          "coloraxis": {
           "colorbar": {
            "outlinewidth": 0,
            "ticks": ""
           }
          },
          "colorscale": {
           "diverging": [
            [
             0,
             "#8e0152"
            ],
            [
             0.1,
             "#c51b7d"
            ],
            [
             0.2,
             "#de77ae"
            ],
            [
             0.3,
             "#f1b6da"
            ],
            [
             0.4,
             "#fde0ef"
            ],
            [
             0.5,
             "#f7f7f7"
            ],
            [
             0.6,
             "#e6f5d0"
            ],
            [
             0.7,
             "#b8e186"
            ],
            [
             0.8,
             "#7fbc41"
            ],
            [
             0.9,
             "#4d9221"
            ],
            [
             1,
             "#276419"
            ]
           ],
           "sequential": [
            [
             0,
             "#0d0887"
            ],
            [
             0.1111111111111111,
             "#46039f"
            ],
            [
             0.2222222222222222,
             "#7201a8"
            ],
            [
             0.3333333333333333,
             "#9c179e"
            ],
            [
             0.4444444444444444,
             "#bd3786"
            ],
            [
             0.5555555555555556,
             "#d8576b"
            ],
            [
             0.6666666666666666,
             "#ed7953"
            ],
            [
             0.7777777777777778,
             "#fb9f3a"
            ],
            [
             0.8888888888888888,
             "#fdca26"
            ],
            [
             1,
             "#f0f921"
            ]
           ],
           "sequentialminus": [
            [
             0,
             "#0d0887"
            ],
            [
             0.1111111111111111,
             "#46039f"
            ],
            [
             0.2222222222222222,
             "#7201a8"
            ],
            [
             0.3333333333333333,
             "#9c179e"
            ],
            [
             0.4444444444444444,
             "#bd3786"
            ],
            [
             0.5555555555555556,
             "#d8576b"
            ],
            [
             0.6666666666666666,
             "#ed7953"
            ],
            [
             0.7777777777777778,
             "#fb9f3a"
            ],
            [
             0.8888888888888888,
             "#fdca26"
            ],
            [
             1,
             "#f0f921"
            ]
           ]
          },
          "colorway": [
           "#636efa",
           "#EF553B",
           "#00cc96",
           "#ab63fa",
           "#FFA15A",
           "#19d3f3",
           "#FF6692",
           "#B6E880",
           "#FF97FF",
           "#FECB52"
          ],
          "font": {
           "color": "#2a3f5f"
          },
          "geo": {
           "bgcolor": "white",
           "lakecolor": "white",
           "landcolor": "#E5ECF6",
           "showlakes": true,
           "showland": true,
           "subunitcolor": "white"
          },
          "hoverlabel": {
           "align": "left"
          },
          "hovermode": "closest",
          "mapbox": {
           "style": "light"
          },
          "paper_bgcolor": "white",
          "plot_bgcolor": "#E5ECF6",
          "polar": {
           "angularaxis": {
            "gridcolor": "white",
            "linecolor": "white",
            "ticks": ""
           },
           "bgcolor": "#E5ECF6",
           "radialaxis": {
            "gridcolor": "white",
            "linecolor": "white",
            "ticks": ""
           }
          },
          "scene": {
           "xaxis": {
            "backgroundcolor": "#E5ECF6",
            "gridcolor": "white",
            "gridwidth": 2,
            "linecolor": "white",
            "showbackground": true,
            "ticks": "",
            "zerolinecolor": "white"
           },
           "yaxis": {
            "backgroundcolor": "#E5ECF6",
            "gridcolor": "white",
            "gridwidth": 2,
            "linecolor": "white",
            "showbackground": true,
            "ticks": "",
            "zerolinecolor": "white"
           },
           "zaxis": {
            "backgroundcolor": "#E5ECF6",
            "gridcolor": "white",
            "gridwidth": 2,
            "linecolor": "white",
            "showbackground": true,
            "ticks": "",
            "zerolinecolor": "white"
           }
          },
          "shapedefaults": {
           "line": {
            "color": "#2a3f5f"
           }
          },
          "ternary": {
           "aaxis": {
            "gridcolor": "white",
            "linecolor": "white",
            "ticks": ""
           },
           "baxis": {
            "gridcolor": "white",
            "linecolor": "white",
            "ticks": ""
           },
           "bgcolor": "#E5ECF6",
           "caxis": {
            "gridcolor": "white",
            "linecolor": "white",
            "ticks": ""
           }
          },
          "title": {
           "x": 0.05
          },
          "xaxis": {
           "automargin": true,
           "gridcolor": "white",
           "linecolor": "white",
           "ticks": "",
           "title": {
            "standoff": 15
           },
           "zerolinecolor": "white",
           "zerolinewidth": 2
          },
          "yaxis": {
           "automargin": true,
           "gridcolor": "white",
           "linecolor": "white",
           "ticks": "",
           "title": {
            "standoff": 15
           },
           "zerolinecolor": "white",
           "zerolinewidth": 2
          }
         }
        }
       }
      }
     },
     "metadata": {}
    }
   ],
   "source": [
    "from queries import make_queries_get_df\n",
    "import pandas as pd\n",
    "import plotly.express as px\n",
    "\n",
    "# get data for file usage\n",
    "file_usage_df = make_queries_get_df('''\n",
    "SELECT course_id, paper_id, document_id, type, COUNT(type) as count, SUM(size) as size_in_kb\n",
    "FROM component\n",
    "GROUP BY course_id, paper_id, document_id, type;\n",
    "''')\n",
    "\n",
    "# convert 'size_in_kb' to megabyte and store the result as a new column.\n",
    "file_usage_df['size_in_mb'] = round(file_usage_df['size_in_kb']/1000, 2)\n",
    "\n",
    "file_usage_df_fig = px.sunburst(file_usage_df, \n",
    "                                path=['course_id', 'paper_id', 'document_id', 'type'], \n",
    "                                values='size_in_mb',\n",
    "                                color='size_in_mb',\n",
    "                                color_continuous_midpoint=file_usage_df['size_in_mb'].mean(),\n",
    "                                color_continuous_scale='reds',\n",
    "                                range_color=[0,60],\n",
    "                                maxdepth=2)\n",
    "\n",
    "#overwrite the default template with our own. Whatever comes between <..> are html tags for formatting. \n",
    "\n",
    "#The values are wrapped inside %{...} and come from the input above. \n",
    "\n",
    "#\"color:. 0f\" is just a way to format how many digits appear after the dot, since color is a list of numbers.\n",
    "\n",
    "file_usage_df_fig.update_traces(hovertemplate='<b>%{label}</b><br><br>File Usage: %{value} MB<br>Count: %{color: .0f}')\n",
    "\n",
    "file_usage_df_fig.show()"
   ]
  },
  {
   "cell_type": "markdown",
   "metadata": {},
   "source": [
    "An adminstrator can quickly zoom in on a particular paper or document to get a quick overview of file usage across different types of materials. Further reports can also easily be generated from the available statistics to inform business decisions about usage plans."
   ]
  },
  {
   "cell_type": "markdown",
   "metadata": {},
   "source": [
    "## 2nd example: getting contributions by each individuals in a paper\n",
    "\n",
    "The below queries can be run to produce an instant breakdown of contributions by each student to each document in a paper. \n",
    "\n",
    "If an instructor's teaching multiple papers, similar queries can be made for each paper and they can be implemented as separate option from a drop-down menu.  "
   ]
  },
  {
   "cell_type": "markdown",
   "metadata": {},
   "source": [
    "### Step 1: Get Data as Dataframe from Cassandra\n",
    "\n",
    "The helper function *make_queries_get_df()* accepts a string of CQL statement as its argument.\n",
    "\n",
    "It hides the details of connecting to Cassandra and executing CQL query using Python.\n",
    "\n",
    "This means you can test out your CQL statement on Datastax Studio, and if you're happy with the result, you can simply copy and paste it into your Jupyter notebook.\n",
    "\n",
    "The returned data will be a dataframe, ready to be processed and visualised."
   ]
  },
  {
   "cell_type": "code",
   "execution_count": 25,
   "metadata": {},
   "outputs": [
    {
     "output_type": "display_data",
     "data": {
      "application/vnd.plotly.v1+json": {
       "config": {
        "plotlyServerURL": "https://plot.ly"
       },
       "data": [
        {
         "branchvalues": "total",
         "customdata": [
          [
           8
          ],
          [
           7
          ],
          [
           3
          ],
          [
           5
          ],
          [
           5
          ],
          [
           2
          ],
          [
           2
          ],
          [
           3
          ],
          [
           1
          ],
          [
           1
          ],
          [
           2
          ],
          [
           5
          ],
          [
           7
          ],
          [
           5
          ],
          [
           2
          ],
          [
           4
          ],
          [
           7
          ],
          [
           7
          ],
          [
           5
          ],
          [
           2
          ],
          [
           2
          ],
          [
           1
          ],
          [
           2
          ],
          [
           8
          ],
          [
           1
          ],
          [
           5
          ],
          [
           19
          ],
          [
           9
          ],
          [
           13
          ],
          [
           11
          ],
          [
           10
          ],
          [
           2
          ],
          [
           26
          ],
          [
           27
          ],
          [
           30
          ],
          [
           83
          ]
         ],
         "domain": {
          "x": [
           0,
           1
          ],
          "y": [
           0,
           1
          ]
         },
         "hovertemplate": "<b>%{label}</b><br><br>Count: %{value}",
         "ids": [
          "paperC1/docC11/Thang Pham/attachment",
          "paperC1/docC12/Thang Pham/attachment",
          "paperC1/docC13/Thang Pham/attachment",
          "paperC1/docC12/Neil Patrick Harris/audio",
          "paperC1/docC13/Neil Patrick Harris/audio",
          "paperC1/docC11/Rory Davies/audio",
          "paperC1/docC11/Gloria Gomez/comment",
          "paperC1/docC12/Gloria Gomez/comment",
          "paperC1/docC12/Claudia Ott/discussion",
          "paperC1/docC13/Jane Doe/discussion",
          "paperC1/docC11/Rory Davies/discussion",
          "paperC1/docC12/Gloria Gomez/image",
          "paperC1/docC13/Neil Patrick Harris/image",
          "paperC1/docC11/Rory Davies/image",
          "paperC1/docC11/Claudia Ott/paragraph",
          "paperC1/docC12/Thang Pham/paragraph",
          "paperC1/docC13/Thang Pham/paragraph",
          "paperC1/docC13/Neil Patrick Harris/video",
          "paperC1/docC11/Thang Pham/video",
          "paperC1/docC12/Veronica Liesaputra/video",
          "paperC1/docC11/Claudia Ott",
          "paperC1/docC12/Claudia Ott",
          "paperC1/docC11/Gloria Gomez",
          "paperC1/docC12/Gloria Gomez",
          "paperC1/docC13/Jane Doe",
          "paperC1/docC12/Neil Patrick Harris",
          "paperC1/docC13/Neil Patrick Harris",
          "paperC1/docC11/Rory Davies",
          "paperC1/docC11/Thang Pham",
          "paperC1/docC12/Thang Pham",
          "paperC1/docC13/Thang Pham",
          "paperC1/docC12/Veronica Liesaputra",
          "paperC1/docC11",
          "paperC1/docC12",
          "paperC1/docC13",
          "paperC1"
         ],
         "labels": [
          "attachment",
          "attachment",
          "attachment",
          "audio",
          "audio",
          "audio",
          "comment",
          "comment",
          "discussion",
          "discussion",
          "discussion",
          "image",
          "image",
          "image",
          "paragraph",
          "paragraph",
          "paragraph",
          "video",
          "video",
          "video",
          "Claudia Ott",
          "Claudia Ott",
          "Gloria Gomez",
          "Gloria Gomez",
          "Jane Doe",
          "Neil Patrick Harris",
          "Neil Patrick Harris",
          "Rory Davies",
          "Thang Pham",
          "Thang Pham",
          "Thang Pham",
          "Veronica Liesaputra",
          "docC11",
          "docC12",
          "docC13",
          "paperC1"
         ],
         "marker": {
          "coloraxis": "coloraxis",
          "colors": [
           8,
           7,
           3,
           5,
           5,
           2,
           2,
           3,
           1,
           1,
           2,
           5,
           7,
           5,
           2,
           4,
           7,
           7,
           5,
           2,
           2,
           1,
           2,
           8,
           1,
           5,
           19,
           9,
           13,
           11,
           10,
           2,
           26,
           27,
           30,
           83
          ]
         },
         "maxdepth": 3,
         "name": "",
         "parents": [
          "paperC1/docC11/Thang Pham",
          "paperC1/docC12/Thang Pham",
          "paperC1/docC13/Thang Pham",
          "paperC1/docC12/Neil Patrick Harris",
          "paperC1/docC13/Neil Patrick Harris",
          "paperC1/docC11/Rory Davies",
          "paperC1/docC11/Gloria Gomez",
          "paperC1/docC12/Gloria Gomez",
          "paperC1/docC12/Claudia Ott",
          "paperC1/docC13/Jane Doe",
          "paperC1/docC11/Rory Davies",
          "paperC1/docC12/Gloria Gomez",
          "paperC1/docC13/Neil Patrick Harris",
          "paperC1/docC11/Rory Davies",
          "paperC1/docC11/Claudia Ott",
          "paperC1/docC12/Thang Pham",
          "paperC1/docC13/Thang Pham",
          "paperC1/docC13/Neil Patrick Harris",
          "paperC1/docC11/Thang Pham",
          "paperC1/docC12/Veronica Liesaputra",
          "paperC1/docC11",
          "paperC1/docC12",
          "paperC1/docC11",
          "paperC1/docC12",
          "paperC1/docC13",
          "paperC1/docC12",
          "paperC1/docC13",
          "paperC1/docC11",
          "paperC1/docC11",
          "paperC1/docC12",
          "paperC1/docC13",
          "paperC1/docC12",
          "paperC1",
          "paperC1",
          "paperC1",
          ""
         ],
         "type": "sunburst",
         "values": [
          8,
          7,
          3,
          5,
          5,
          2,
          2,
          3,
          1,
          1,
          2,
          5,
          7,
          5,
          2,
          4,
          7,
          7,
          5,
          2,
          2,
          1,
          2,
          8,
          1,
          5,
          19,
          9,
          13,
          11,
          10,
          2,
          26,
          27,
          30,
          83
         ]
        }
       ],
       "layout": {
        "coloraxis": {
         "cmax": 50,
         "cmid": 4.15,
         "cmin": 0,
         "colorbar": {
          "title": {
           "text": "count"
          }
         },
         "colorscale": [
          [
           0,
           "rgb(209, 238, 234)"
          ],
          [
           0.16666666666666666,
           "rgb(168, 219, 217)"
          ],
          [
           0.3333333333333333,
           "rgb(133, 196, 201)"
          ],
          [
           0.5,
           "rgb(104, 171, 184)"
          ],
          [
           0.6666666666666666,
           "rgb(79, 144, 166)"
          ],
          [
           0.8333333333333334,
           "rgb(59, 115, 143)"
          ],
          [
           1,
           "rgb(42, 86, 116)"
          ]
         ]
        },
        "legend": {
         "tracegroupgap": 0
        },
        "margin": {
         "t": 60
        },
        "template": {
         "data": {
          "bar": [
           {
            "error_x": {
             "color": "#2a3f5f"
            },
            "error_y": {
             "color": "#2a3f5f"
            },
            "marker": {
             "line": {
              "color": "#E5ECF6",
              "width": 0.5
             }
            },
            "type": "bar"
           }
          ],
          "barpolar": [
           {
            "marker": {
             "line": {
              "color": "#E5ECF6",
              "width": 0.5
             }
            },
            "type": "barpolar"
           }
          ],
          "carpet": [
           {
            "aaxis": {
             "endlinecolor": "#2a3f5f",
             "gridcolor": "white",
             "linecolor": "white",
             "minorgridcolor": "white",
             "startlinecolor": "#2a3f5f"
            },
            "baxis": {
             "endlinecolor": "#2a3f5f",
             "gridcolor": "white",
             "linecolor": "white",
             "minorgridcolor": "white",
             "startlinecolor": "#2a3f5f"
            },
            "type": "carpet"
           }
          ],
          "choropleth": [
           {
            "colorbar": {
             "outlinewidth": 0,
             "ticks": ""
            },
            "type": "choropleth"
           }
          ],
          "contour": [
           {
            "colorbar": {
             "outlinewidth": 0,
             "ticks": ""
            },
            "colorscale": [
             [
              0,
              "#0d0887"
             ],
             [
              0.1111111111111111,
              "#46039f"
             ],
             [
              0.2222222222222222,
              "#7201a8"
             ],
             [
              0.3333333333333333,
              "#9c179e"
             ],
             [
              0.4444444444444444,
              "#bd3786"
             ],
             [
              0.5555555555555556,
              "#d8576b"
             ],
             [
              0.6666666666666666,
              "#ed7953"
             ],
             [
              0.7777777777777778,
              "#fb9f3a"
             ],
             [
              0.8888888888888888,
              "#fdca26"
             ],
             [
              1,
              "#f0f921"
             ]
            ],
            "type": "contour"
           }
          ],
          "contourcarpet": [
           {
            "colorbar": {
             "outlinewidth": 0,
             "ticks": ""
            },
            "type": "contourcarpet"
           }
          ],
          "heatmap": [
           {
            "colorbar": {
             "outlinewidth": 0,
             "ticks": ""
            },
            "colorscale": [
             [
              0,
              "#0d0887"
             ],
             [
              0.1111111111111111,
              "#46039f"
             ],
             [
              0.2222222222222222,
              "#7201a8"
             ],
             [
              0.3333333333333333,
              "#9c179e"
             ],
             [
              0.4444444444444444,
              "#bd3786"
             ],
             [
              0.5555555555555556,
              "#d8576b"
             ],
             [
              0.6666666666666666,
              "#ed7953"
             ],
             [
              0.7777777777777778,
              "#fb9f3a"
             ],
             [
              0.8888888888888888,
              "#fdca26"
             ],
             [
              1,
              "#f0f921"
             ]
            ],
            "type": "heatmap"
           }
          ],
          "heatmapgl": [
           {
            "colorbar": {
             "outlinewidth": 0,
             "ticks": ""
            },
            "colorscale": [
             [
              0,
              "#0d0887"
             ],
             [
              0.1111111111111111,
              "#46039f"
             ],
             [
              0.2222222222222222,
              "#7201a8"
             ],
             [
              0.3333333333333333,
              "#9c179e"
             ],
             [
              0.4444444444444444,
              "#bd3786"
             ],
             [
              0.5555555555555556,
              "#d8576b"
             ],
             [
              0.6666666666666666,
              "#ed7953"
             ],
             [
              0.7777777777777778,
              "#fb9f3a"
             ],
             [
              0.8888888888888888,
              "#fdca26"
             ],
             [
              1,
              "#f0f921"
             ]
            ],
            "type": "heatmapgl"
           }
          ],
          "histogram": [
           {
            "marker": {
             "colorbar": {
              "outlinewidth": 0,
              "ticks": ""
             }
            },
            "type": "histogram"
           }
          ],
          "histogram2d": [
           {
            "colorbar": {
             "outlinewidth": 0,
             "ticks": ""
            },
            "colorscale": [
             [
              0,
              "#0d0887"
             ],
             [
              0.1111111111111111,
              "#46039f"
             ],
             [
              0.2222222222222222,
              "#7201a8"
             ],
             [
              0.3333333333333333,
              "#9c179e"
             ],
             [
              0.4444444444444444,
              "#bd3786"
             ],
             [
              0.5555555555555556,
              "#d8576b"
             ],
             [
              0.6666666666666666,
              "#ed7953"
             ],
             [
              0.7777777777777778,
              "#fb9f3a"
             ],
             [
              0.8888888888888888,
              "#fdca26"
             ],
             [
              1,
              "#f0f921"
             ]
            ],
            "type": "histogram2d"
           }
          ],
          "histogram2dcontour": [
           {
            "colorbar": {
             "outlinewidth": 0,
             "ticks": ""
            },
            "colorscale": [
             [
              0,
              "#0d0887"
             ],
             [
              0.1111111111111111,
              "#46039f"
             ],
             [
              0.2222222222222222,
              "#7201a8"
             ],
             [
              0.3333333333333333,
              "#9c179e"
             ],
             [
              0.4444444444444444,
              "#bd3786"
             ],
             [
              0.5555555555555556,
              "#d8576b"
             ],
             [
              0.6666666666666666,
              "#ed7953"
             ],
             [
              0.7777777777777778,
              "#fb9f3a"
             ],
             [
              0.8888888888888888,
              "#fdca26"
             ],
             [
              1,
              "#f0f921"
             ]
            ],
            "type": "histogram2dcontour"
           }
          ],
          "mesh3d": [
           {
            "colorbar": {
             "outlinewidth": 0,
             "ticks": ""
            },
            "type": "mesh3d"
           }
          ],
          "parcoords": [
           {
            "line": {
             "colorbar": {
              "outlinewidth": 0,
              "ticks": ""
             }
            },
            "type": "parcoords"
           }
          ],
          "pie": [
           {
            "automargin": true,
            "type": "pie"
           }
          ],
          "scatter": [
           {
            "marker": {
             "colorbar": {
              "outlinewidth": 0,
              "ticks": ""
             }
            },
            "type": "scatter"
           }
          ],
          "scatter3d": [
           {
            "line": {
             "colorbar": {
              "outlinewidth": 0,
              "ticks": ""
             }
            },
            "marker": {
             "colorbar": {
              "outlinewidth": 0,
              "ticks": ""
             }
            },
            "type": "scatter3d"
           }
          ],
          "scattercarpet": [
           {
            "marker": {
             "colorbar": {
              "outlinewidth": 0,
              "ticks": ""
             }
            },
            "type": "scattercarpet"
           }
          ],
          "scattergeo": [
           {
            "marker": {
             "colorbar": {
              "outlinewidth": 0,
              "ticks": ""
             }
            },
            "type": "scattergeo"
           }
          ],
          "scattergl": [
           {
            "marker": {
             "colorbar": {
              "outlinewidth": 0,
              "ticks": ""
             }
            },
            "type": "scattergl"
           }
          ],
          "scattermapbox": [
           {
            "marker": {
             "colorbar": {
              "outlinewidth": 0,
              "ticks": ""
             }
            },
            "type": "scattermapbox"
           }
          ],
          "scatterpolar": [
           {
            "marker": {
             "colorbar": {
              "outlinewidth": 0,
              "ticks": ""
             }
            },
            "type": "scatterpolar"
           }
          ],
          "scatterpolargl": [
           {
            "marker": {
             "colorbar": {
              "outlinewidth": 0,
              "ticks": ""
             }
            },
            "type": "scatterpolargl"
           }
          ],
          "scatterternary": [
           {
            "marker": {
             "colorbar": {
              "outlinewidth": 0,
              "ticks": ""
             }
            },
            "type": "scatterternary"
           }
          ],
          "surface": [
           {
            "colorbar": {
             "outlinewidth": 0,
             "ticks": ""
            },
            "colorscale": [
             [
              0,
              "#0d0887"
             ],
             [
              0.1111111111111111,
              "#46039f"
             ],
             [
              0.2222222222222222,
              "#7201a8"
             ],
             [
              0.3333333333333333,
              "#9c179e"
             ],
             [
              0.4444444444444444,
              "#bd3786"
             ],
             [
              0.5555555555555556,
              "#d8576b"
             ],
             [
              0.6666666666666666,
              "#ed7953"
             ],
             [
              0.7777777777777778,
              "#fb9f3a"
             ],
             [
              0.8888888888888888,
              "#fdca26"
             ],
             [
              1,
              "#f0f921"
             ]
            ],
            "type": "surface"
           }
          ],
          "table": [
           {
            "cells": {
             "fill": {
              "color": "#EBF0F8"
             },
             "line": {
              "color": "white"
             }
            },
            "header": {
             "fill": {
              "color": "#C8D4E3"
             },
             "line": {
              "color": "white"
             }
            },
            "type": "table"
           }
          ]
         },
         "layout": {
          "annotationdefaults": {
           "arrowcolor": "#2a3f5f",
           "arrowhead": 0,
           "arrowwidth": 1
          },
          "coloraxis": {
           "colorbar": {
            "outlinewidth": 0,
            "ticks": ""
           }
          },
          "colorscale": {
           "diverging": [
            [
             0,
             "#8e0152"
            ],
            [
             0.1,
             "#c51b7d"
            ],
            [
             0.2,
             "#de77ae"
            ],
            [
             0.3,
             "#f1b6da"
            ],
            [
             0.4,
             "#fde0ef"
            ],
            [
             0.5,
             "#f7f7f7"
            ],
            [
             0.6,
             "#e6f5d0"
            ],
            [
             0.7,
             "#b8e186"
            ],
            [
             0.8,
             "#7fbc41"
            ],
            [
             0.9,
             "#4d9221"
            ],
            [
             1,
             "#276419"
            ]
           ],
           "sequential": [
            [
             0,
             "#0d0887"
            ],
            [
             0.1111111111111111,
             "#46039f"
            ],
            [
             0.2222222222222222,
             "#7201a8"
            ],
            [
             0.3333333333333333,
             "#9c179e"
            ],
            [
             0.4444444444444444,
             "#bd3786"
            ],
            [
             0.5555555555555556,
             "#d8576b"
            ],
            [
             0.6666666666666666,
             "#ed7953"
            ],
            [
             0.7777777777777778,
             "#fb9f3a"
            ],
            [
             0.8888888888888888,
             "#fdca26"
            ],
            [
             1,
             "#f0f921"
            ]
           ],
           "sequentialminus": [
            [
             0,
             "#0d0887"
            ],
            [
             0.1111111111111111,
             "#46039f"
            ],
            [
             0.2222222222222222,
             "#7201a8"
            ],
            [
             0.3333333333333333,
             "#9c179e"
            ],
            [
             0.4444444444444444,
             "#bd3786"
            ],
            [
             0.5555555555555556,
             "#d8576b"
            ],
            [
             0.6666666666666666,
             "#ed7953"
            ],
            [
             0.7777777777777778,
             "#fb9f3a"
            ],
            [
             0.8888888888888888,
             "#fdca26"
            ],
            [
             1,
             "#f0f921"
            ]
           ]
          },
          "colorway": [
           "#636efa",
           "#EF553B",
           "#00cc96",
           "#ab63fa",
           "#FFA15A",
           "#19d3f3",
           "#FF6692",
           "#B6E880",
           "#FF97FF",
           "#FECB52"
          ],
          "font": {
           "color": "#2a3f5f"
          },
          "geo": {
           "bgcolor": "white",
           "lakecolor": "white",
           "landcolor": "#E5ECF6",
           "showlakes": true,
           "showland": true,
           "subunitcolor": "white"
          },
          "hoverlabel": {
           "align": "left"
          },
          "hovermode": "closest",
          "mapbox": {
           "style": "light"
          },
          "paper_bgcolor": "white",
          "plot_bgcolor": "#E5ECF6",
          "polar": {
           "angularaxis": {
            "gridcolor": "white",
            "linecolor": "white",
            "ticks": ""
           },
           "bgcolor": "#E5ECF6",
           "radialaxis": {
            "gridcolor": "white",
            "linecolor": "white",
            "ticks": ""
           }
          },
          "scene": {
           "xaxis": {
            "backgroundcolor": "#E5ECF6",
            "gridcolor": "white",
            "gridwidth": 2,
            "linecolor": "white",
            "showbackground": true,
            "ticks": "",
            "zerolinecolor": "white"
           },
           "yaxis": {
            "backgroundcolor": "#E5ECF6",
            "gridcolor": "white",
            "gridwidth": 2,
            "linecolor": "white",
            "showbackground": true,
            "ticks": "",
            "zerolinecolor": "white"
           },
           "zaxis": {
            "backgroundcolor": "#E5ECF6",
            "gridcolor": "white",
            "gridwidth": 2,
            "linecolor": "white",
            "showbackground": true,
            "ticks": "",
            "zerolinecolor": "white"
           }
          },
          "shapedefaults": {
           "line": {
            "color": "#2a3f5f"
           }
          },
          "ternary": {
           "aaxis": {
            "gridcolor": "white",
            "linecolor": "white",
            "ticks": ""
           },
           "baxis": {
            "gridcolor": "white",
            "linecolor": "white",
            "ticks": ""
           },
           "bgcolor": "#E5ECF6",
           "caxis": {
            "gridcolor": "white",
            "linecolor": "white",
            "ticks": ""
           }
          },
          "title": {
           "x": 0.05
          },
          "xaxis": {
           "automargin": true,
           "gridcolor": "white",
           "linecolor": "white",
           "ticks": "",
           "title": {
            "standoff": 15
           },
           "zerolinecolor": "white",
           "zerolinewidth": 2
          },
          "yaxis": {
           "automargin": true,
           "gridcolor": "white",
           "linecolor": "white",
           "ticks": "",
           "title": {
            "standoff": 15
           },
           "zerolinecolor": "white",
           "zerolinewidth": 2
          }
         }
        }
       }
      }
     },
     "metadata": {}
    }
   ],
   "source": [
    "from queries import make_queries_get_df\n",
    "import pandas as pd\n",
    "import chart_helper\n",
    "import plotly.express as px\n",
    "\n",
    "contribution_by_paperC1_df = make_queries_get_df('''\n",
    "SELECT paper_id, document_id, author_full_name, type, COUNT(type) as count\n",
    "FROM component\n",
    "WHERE course_id = 'courseC'\n",
    "AND paper_id = 'paperC1'\n",
    "GROUP BY document_id, type;\n",
    "''')\n",
    "\n",
    "#generate the figure object\n",
    "\n",
    "contribution_by_paperC1_df_fig = px.sunburst(contribution_by_paperC1_df,\n",
    "                                             path=['paper_id', 'document_id', 'author_full_name', 'type'],\n",
    "                                             values='count',\n",
    "                                             color='count',\n",
    "                                             color_continuous_midpoint=contribution_by_paperC1_df['count'].mean(),\n",
    "                                             range_color=[0,50],\n",
    "                                             color_continuous_scale='teal',\n",
    "                                             maxdepth=3,)\n",
    "\n",
    "contribution_by_paperC1_df_fig.update_traces(hovertemplate='<b>%{label}</b><br><br>Count: %{value}')\n",
    "contribution_by_paperC1_df_fig.show()\n",
    "#chart_helper.quick_sunburst(contribution_by_paperC1_df, 3).show()"
   ]
  },
  {
   "cell_type": "markdown",
   "metadata": {},
   "source": [
    "Notice that the data's already sorted and grouped by Cassandra on the server side. This takes advantage of the design of the component table and does not force processing on the client side.\n",
    "\n",
    "Similar to the 1st example, we use *quick_sunburst()* to visualise the received dataframe."
   ]
  },
  {
   "cell_type": "markdown",
   "metadata": {},
   "source": [
    "## Using Materialized View for Student-Centric Visualisations\n",
    "\n",
    "### Example 1: Individual Contributions\n",
    "\n",
    "Using materialized view in Cassandra, we can construct a virtual table based on the component table with an added primary key. \n",
    "\n",
    "We can also redefine which keys are the partition keys and which are the clustering keys.\n",
    "\n",
    "### Redefining the Primary Key using Materialized View\n",
    "\n",
    "Let's say we want to know the contributions of a student with id 2. We can't get an overview using the component table because its primary key uses 'course_id' and 'paper_id' as its partition key. The clustering key also begins with 'document_id', 'type' and then comes 'author_id'. \n",
    "\n",
    "This means we can only select a contributions of a student for a document, and we need to make several select statements to get an overview of all the contributions across all documents.\n",
    "\n",
    "To solve this problem, we can use materialized view to cast the 'author_id' as the partition key, and the rest of the keys as clustering columns. These allow the data to be efficiently accessed as well as pre-sorted.\n",
    "\n",
    "Here's the full CQL statement for creating the Materialized View:\n",
    "\n",
    "CREATE MATERIALIZED VIEW component_by_author_id <br>\n",
    "AS SELECT * FROM component <br>\n",
    "WHERE course_id IS NOT NULL <br>\n",
    "AND paper_id IS NOT NULL <br>\n",
    "AND document_id IS NOT NULL <br>\n",
    "AND type IS NOT NULL <br>\n",
    "AND author_id IS NOT NULL <br>\n",
    "AND time_added IS NOT NULL <br>\n",
    "PRIMARY KEY (author_id, course_id, paper_id, document_id, type, time_added);\n"
   ]
  },
  {
   "cell_type": "markdown",
   "metadata": {},
   "source": [
    "### Getting the Data\n",
    "\n",
    "Next, we simply query the materialized view like any CQL table."
   ]
  },
  {
   "cell_type": "code",
   "execution_count": 27,
   "metadata": {},
   "outputs": [
    {
     "output_type": "execute_result",
     "data": {
      "text/plain": "   author_full_name course_id paper_id document_id        type  count\n0       Rory Davies   courseA  paperA1      docA11       audio      1\n1       Rory Davies   courseA  paperA1      docA12       audio      2\n2       Rory Davies   courseA  paperA1      docA13       audio      1\n3       Rory Davies   courseA  paperA1      docA13     comment      1\n4       Rory Davies   courseA  paperA2      docA21   paragraph      2\n5       Rory Davies   courseA  paperA2      docA22       audio      1\n6       Rory Davies   courseA  paperA2      docA22   paragraph      2\n7       Rory Davies   courseA  paperA2      docA22       video      1\n8       Rory Davies   courseA  paperA2      docA23  attachment      1\n9       Rory Davies   courseA  paperA2      docA23       audio      1\n10      Rory Davies   courseB  paperB1      docB11       audio      1\n11      Rory Davies   courseB  paperB1      docB11       image      1\n12      Rory Davies   courseB  paperB1      docB11   paragraph      1\n13      Rory Davies   courseB  paperB1      docB12  attachment      1\n14      Rory Davies   courseB  paperB1      docB12       image      1\n15      Rory Davies   courseB  paperB1      docB12       video      1\n16      Rory Davies   courseB  paperB1      docB13       audio      1\n17      Rory Davies   courseB  paperB2      docB21  attachment      1\n18      Rory Davies   courseB  paperB2      docB21       image      1\n19      Rory Davies   courseB  paperB2      docB22     comment      1\n20      Rory Davies   courseB  paperB2      docB22  discussion      1\n21      Rory Davies   courseB  paperB2      docB22   paragraph      1\n22      Rory Davies   courseC  paperC1      docC11       audio      1\n23      Rory Davies   courseC  paperC1      docC11  discussion      1\n24      Rory Davies   courseC  paperC1      docC11       image      2\n25      Rory Davies   courseC  paperC1      docC11       video      1\n26      Rory Davies   courseC  paperC1      docC12  attachment      1\n27      Rory Davies   courseC  paperC1      docC12   paragraph      1\n28      Rory Davies   courseC  paperC1      docC13   paragraph      1\n29      Rory Davies   courseC  paperC2      docC21     comment      1\n30      Rory Davies   courseC  paperC2      docC21  discussion      1\n31      Rory Davies   courseC  paperC2      docC21       image      1\n32      Rory Davies   courseC  paperC2      docC22  attachment      1\n33      Rory Davies   courseC  paperC2      docC22       audio      1\n34      Rory Davies   courseC  paperC2      docC22     comment      1\n35      Rory Davies   courseC  paperC2      docC22       video      2\n36      Rory Davies   courseC  paperC2      docC23  attachment      1\n37      Rory Davies   courseC  paperC2      docC23       audio      1\n38      Rory Davies   courseC  paperC2      docC23       video      1",
      "text/html": "<div>\n<style scoped>\n    .dataframe tbody tr th:only-of-type {\n        vertical-align: middle;\n    }\n\n    .dataframe tbody tr th {\n        vertical-align: top;\n    }\n\n    .dataframe thead th {\n        text-align: right;\n    }\n</style>\n<table border=\"1\" class=\"dataframe\">\n  <thead>\n    <tr style=\"text-align: right;\">\n      <th></th>\n      <th>author_full_name</th>\n      <th>course_id</th>\n      <th>paper_id</th>\n      <th>document_id</th>\n      <th>type</th>\n      <th>count</th>\n    </tr>\n  </thead>\n  <tbody>\n    <tr>\n      <th>0</th>\n      <td>Rory Davies</td>\n      <td>courseA</td>\n      <td>paperA1</td>\n      <td>docA11</td>\n      <td>audio</td>\n      <td>1</td>\n    </tr>\n    <tr>\n      <th>1</th>\n      <td>Rory Davies</td>\n      <td>courseA</td>\n      <td>paperA1</td>\n      <td>docA12</td>\n      <td>audio</td>\n      <td>2</td>\n    </tr>\n    <tr>\n      <th>2</th>\n      <td>Rory Davies</td>\n      <td>courseA</td>\n      <td>paperA1</td>\n      <td>docA13</td>\n      <td>audio</td>\n      <td>1</td>\n    </tr>\n    <tr>\n      <th>3</th>\n      <td>Rory Davies</td>\n      <td>courseA</td>\n      <td>paperA1</td>\n      <td>docA13</td>\n      <td>comment</td>\n      <td>1</td>\n    </tr>\n    <tr>\n      <th>4</th>\n      <td>Rory Davies</td>\n      <td>courseA</td>\n      <td>paperA2</td>\n      <td>docA21</td>\n      <td>paragraph</td>\n      <td>2</td>\n    </tr>\n    <tr>\n      <th>5</th>\n      <td>Rory Davies</td>\n      <td>courseA</td>\n      <td>paperA2</td>\n      <td>docA22</td>\n      <td>audio</td>\n      <td>1</td>\n    </tr>\n    <tr>\n      <th>6</th>\n      <td>Rory Davies</td>\n      <td>courseA</td>\n      <td>paperA2</td>\n      <td>docA22</td>\n      <td>paragraph</td>\n      <td>2</td>\n    </tr>\n    <tr>\n      <th>7</th>\n      <td>Rory Davies</td>\n      <td>courseA</td>\n      <td>paperA2</td>\n      <td>docA22</td>\n      <td>video</td>\n      <td>1</td>\n    </tr>\n    <tr>\n      <th>8</th>\n      <td>Rory Davies</td>\n      <td>courseA</td>\n      <td>paperA2</td>\n      <td>docA23</td>\n      <td>attachment</td>\n      <td>1</td>\n    </tr>\n    <tr>\n      <th>9</th>\n      <td>Rory Davies</td>\n      <td>courseA</td>\n      <td>paperA2</td>\n      <td>docA23</td>\n      <td>audio</td>\n      <td>1</td>\n    </tr>\n    <tr>\n      <th>10</th>\n      <td>Rory Davies</td>\n      <td>courseB</td>\n      <td>paperB1</td>\n      <td>docB11</td>\n      <td>audio</td>\n      <td>1</td>\n    </tr>\n    <tr>\n      <th>11</th>\n      <td>Rory Davies</td>\n      <td>courseB</td>\n      <td>paperB1</td>\n      <td>docB11</td>\n      <td>image</td>\n      <td>1</td>\n    </tr>\n    <tr>\n      <th>12</th>\n      <td>Rory Davies</td>\n      <td>courseB</td>\n      <td>paperB1</td>\n      <td>docB11</td>\n      <td>paragraph</td>\n      <td>1</td>\n    </tr>\n    <tr>\n      <th>13</th>\n      <td>Rory Davies</td>\n      <td>courseB</td>\n      <td>paperB1</td>\n      <td>docB12</td>\n      <td>attachment</td>\n      <td>1</td>\n    </tr>\n    <tr>\n      <th>14</th>\n      <td>Rory Davies</td>\n      <td>courseB</td>\n      <td>paperB1</td>\n      <td>docB12</td>\n      <td>image</td>\n      <td>1</td>\n    </tr>\n    <tr>\n      <th>15</th>\n      <td>Rory Davies</td>\n      <td>courseB</td>\n      <td>paperB1</td>\n      <td>docB12</td>\n      <td>video</td>\n      <td>1</td>\n    </tr>\n    <tr>\n      <th>16</th>\n      <td>Rory Davies</td>\n      <td>courseB</td>\n      <td>paperB1</td>\n      <td>docB13</td>\n      <td>audio</td>\n      <td>1</td>\n    </tr>\n    <tr>\n      <th>17</th>\n      <td>Rory Davies</td>\n      <td>courseB</td>\n      <td>paperB2</td>\n      <td>docB21</td>\n      <td>attachment</td>\n      <td>1</td>\n    </tr>\n    <tr>\n      <th>18</th>\n      <td>Rory Davies</td>\n      <td>courseB</td>\n      <td>paperB2</td>\n      <td>docB21</td>\n      <td>image</td>\n      <td>1</td>\n    </tr>\n    <tr>\n      <th>19</th>\n      <td>Rory Davies</td>\n      <td>courseB</td>\n      <td>paperB2</td>\n      <td>docB22</td>\n      <td>comment</td>\n      <td>1</td>\n    </tr>\n    <tr>\n      <th>20</th>\n      <td>Rory Davies</td>\n      <td>courseB</td>\n      <td>paperB2</td>\n      <td>docB22</td>\n      <td>discussion</td>\n      <td>1</td>\n    </tr>\n    <tr>\n      <th>21</th>\n      <td>Rory Davies</td>\n      <td>courseB</td>\n      <td>paperB2</td>\n      <td>docB22</td>\n      <td>paragraph</td>\n      <td>1</td>\n    </tr>\n    <tr>\n      <th>22</th>\n      <td>Rory Davies</td>\n      <td>courseC</td>\n      <td>paperC1</td>\n      <td>docC11</td>\n      <td>audio</td>\n      <td>1</td>\n    </tr>\n    <tr>\n      <th>23</th>\n      <td>Rory Davies</td>\n      <td>courseC</td>\n      <td>paperC1</td>\n      <td>docC11</td>\n      <td>discussion</td>\n      <td>1</td>\n    </tr>\n    <tr>\n      <th>24</th>\n      <td>Rory Davies</td>\n      <td>courseC</td>\n      <td>paperC1</td>\n      <td>docC11</td>\n      <td>image</td>\n      <td>2</td>\n    </tr>\n    <tr>\n      <th>25</th>\n      <td>Rory Davies</td>\n      <td>courseC</td>\n      <td>paperC1</td>\n      <td>docC11</td>\n      <td>video</td>\n      <td>1</td>\n    </tr>\n    <tr>\n      <th>26</th>\n      <td>Rory Davies</td>\n      <td>courseC</td>\n      <td>paperC1</td>\n      <td>docC12</td>\n      <td>attachment</td>\n      <td>1</td>\n    </tr>\n    <tr>\n      <th>27</th>\n      <td>Rory Davies</td>\n      <td>courseC</td>\n      <td>paperC1</td>\n      <td>docC12</td>\n      <td>paragraph</td>\n      <td>1</td>\n    </tr>\n    <tr>\n      <th>28</th>\n      <td>Rory Davies</td>\n      <td>courseC</td>\n      <td>paperC1</td>\n      <td>docC13</td>\n      <td>paragraph</td>\n      <td>1</td>\n    </tr>\n    <tr>\n      <th>29</th>\n      <td>Rory Davies</td>\n      <td>courseC</td>\n      <td>paperC2</td>\n      <td>docC21</td>\n      <td>comment</td>\n      <td>1</td>\n    </tr>\n    <tr>\n      <th>30</th>\n      <td>Rory Davies</td>\n      <td>courseC</td>\n      <td>paperC2</td>\n      <td>docC21</td>\n      <td>discussion</td>\n      <td>1</td>\n    </tr>\n    <tr>\n      <th>31</th>\n      <td>Rory Davies</td>\n      <td>courseC</td>\n      <td>paperC2</td>\n      <td>docC21</td>\n      <td>image</td>\n      <td>1</td>\n    </tr>\n    <tr>\n      <th>32</th>\n      <td>Rory Davies</td>\n      <td>courseC</td>\n      <td>paperC2</td>\n      <td>docC22</td>\n      <td>attachment</td>\n      <td>1</td>\n    </tr>\n    <tr>\n      <th>33</th>\n      <td>Rory Davies</td>\n      <td>courseC</td>\n      <td>paperC2</td>\n      <td>docC22</td>\n      <td>audio</td>\n      <td>1</td>\n    </tr>\n    <tr>\n      <th>34</th>\n      <td>Rory Davies</td>\n      <td>courseC</td>\n      <td>paperC2</td>\n      <td>docC22</td>\n      <td>comment</td>\n      <td>1</td>\n    </tr>\n    <tr>\n      <th>35</th>\n      <td>Rory Davies</td>\n      <td>courseC</td>\n      <td>paperC2</td>\n      <td>docC22</td>\n      <td>video</td>\n      <td>2</td>\n    </tr>\n    <tr>\n      <th>36</th>\n      <td>Rory Davies</td>\n      <td>courseC</td>\n      <td>paperC2</td>\n      <td>docC23</td>\n      <td>attachment</td>\n      <td>1</td>\n    </tr>\n    <tr>\n      <th>37</th>\n      <td>Rory Davies</td>\n      <td>courseC</td>\n      <td>paperC2</td>\n      <td>docC23</td>\n      <td>audio</td>\n      <td>1</td>\n    </tr>\n    <tr>\n      <th>38</th>\n      <td>Rory Davies</td>\n      <td>courseC</td>\n      <td>paperC2</td>\n      <td>docC23</td>\n      <td>video</td>\n      <td>1</td>\n    </tr>\n  </tbody>\n</table>\n</div>"
     },
     "metadata": {},
     "execution_count": 27
    }
   ],
   "source": [
    "from queries import make_queries_get_df\n",
    "\n",
    "contributions_of_student_2_df = make_queries_get_df('''\n",
    "SELECT author_full_name, course_id, paper_id, document_id, type, count(type) as count\n",
    "FROM component_by_author_id\n",
    "WHERE author_id = '2'\n",
    "GROUP BY course_id, paper_id, document_id, type;\n",
    "''')\n",
    "\n",
    "contributions_of_student_2_df"
   ]
  },
  {
   "cell_type": "markdown",
   "metadata": {},
   "source": [
    "### Visualize the Data\n",
    "\n",
    "Finally, we can take advantage of Cassandra's pre-sorted result to visualise the data into a sunburst chart. \n",
    "\n",
    "Notice that only the name of the student in question appears in the center. This is because *author_full_name* is the first column and we know that it's the same thanks to the fact that *author_id* is the partition key, giving us access to all data of a student in one place. \n",
    "\n",
    "As a result, a student, in this case Rory, can quickly get an overview of what she/he has contributed in each document in a paper."
   ]
  },
  {
   "cell_type": "code",
   "execution_count": 41,
   "metadata": {},
   "outputs": [
    {
     "output_type": "display_data",
     "data": {
      "application/vnd.plotly.v1+json": {
       "config": {
        "plotlyServerURL": "https://plot.ly"
       },
       "data": [
        {
         "branchvalues": "total",
         "customdata": [
          [
           1
          ],
          [
           1
          ],
          [
           1
          ],
          [
           1
          ],
          [
           1
          ],
          [
           1
          ],
          [
           1
          ],
          [
           2
          ],
          [
           1
          ],
          [
           1
          ],
          [
           1
          ],
          [
           1
          ],
          [
           1
          ],
          [
           1
          ],
          [
           1
          ],
          [
           1
          ],
          [
           1
          ],
          [
           1
          ],
          [
           1
          ],
          [
           1
          ],
          [
           1
          ],
          [
           1
          ],
          [
           1
          ],
          [
           1
          ],
          [
           1
          ],
          [
           1
          ],
          [
           2
          ],
          [
           1
          ],
          [
           2
          ],
          [
           2
          ],
          [
           1
          ],
          [
           1
          ],
          [
           1
          ],
          [
           1
          ],
          [
           1
          ],
          [
           1
          ],
          [
           1
          ],
          [
           2
          ],
          [
           1
          ],
          [
           1
          ],
          [
           2
          ],
          [
           2
          ],
          [
           2
          ],
          [
           4
          ],
          [
           2
          ],
          [
           3
          ],
          [
           3
          ],
          [
           1
          ],
          [
           2
          ],
          [
           3
          ],
          [
           5
          ],
          [
           2
          ],
          [
           1
          ],
          [
           3
          ],
          [
           5
          ],
          [
           3
          ],
          [
           5
          ],
          [
           8
          ],
          [
           7
          ],
          [
           5
          ],
          [
           8
          ],
          [
           11
          ],
          [
           44
          ]
         ],
         "domain": {
          "x": [
           0,
           1
          ],
          "y": [
           0,
           1
          ]
         },
         "hovertemplate": "<b>%{label}</b><br><br>Count: %{value}",
         "ids": [
          "Rory Davies/paperA2/docA23/attachment",
          "Rory Davies/paperB1/docB12/attachment",
          "Rory Davies/paperB2/docB21/attachment",
          "Rory Davies/paperC1/docC12/attachment",
          "Rory Davies/paperC2/docC22/attachment",
          "Rory Davies/paperC2/docC23/attachment",
          "Rory Davies/paperA1/docA11/audio",
          "Rory Davies/paperA1/docA12/audio",
          "Rory Davies/paperA1/docA13/audio",
          "Rory Davies/paperA2/docA22/audio",
          "Rory Davies/paperA2/docA23/audio",
          "Rory Davies/paperB1/docB11/audio",
          "Rory Davies/paperB1/docB13/audio",
          "Rory Davies/paperC1/docC11/audio",
          "Rory Davies/paperC2/docC22/audio",
          "Rory Davies/paperC2/docC23/audio",
          "Rory Davies/paperA1/docA13/comment",
          "Rory Davies/paperB2/docB22/comment",
          "Rory Davies/paperC2/docC21/comment",
          "Rory Davies/paperC2/docC22/comment",
          "Rory Davies/paperB2/docB22/discussion",
          "Rory Davies/paperC1/docC11/discussion",
          "Rory Davies/paperC2/docC21/discussion",
          "Rory Davies/paperB1/docB11/image",
          "Rory Davies/paperB1/docB12/image",
          "Rory Davies/paperB2/docB21/image",
          "Rory Davies/paperC1/docC11/image",
          "Rory Davies/paperC2/docC21/image",
          "Rory Davies/paperA2/docA21/paragraph",
          "Rory Davies/paperA2/docA22/paragraph",
          "Rory Davies/paperB1/docB11/paragraph",
          "Rory Davies/paperB2/docB22/paragraph",
          "Rory Davies/paperC1/docC12/paragraph",
          "Rory Davies/paperC1/docC13/paragraph",
          "Rory Davies/paperA2/docA22/video",
          "Rory Davies/paperB1/docB12/video",
          "Rory Davies/paperC1/docC11/video",
          "Rory Davies/paperC2/docC22/video",
          "Rory Davies/paperC2/docC23/video",
          "Rory Davies/paperA1/docA11",
          "Rory Davies/paperA1/docA12",
          "Rory Davies/paperA1/docA13",
          "Rory Davies/paperA2/docA21",
          "Rory Davies/paperA2/docA22",
          "Rory Davies/paperA2/docA23",
          "Rory Davies/paperB1/docB11",
          "Rory Davies/paperB1/docB12",
          "Rory Davies/paperB1/docB13",
          "Rory Davies/paperB2/docB21",
          "Rory Davies/paperB2/docB22",
          "Rory Davies/paperC1/docC11",
          "Rory Davies/paperC1/docC12",
          "Rory Davies/paperC1/docC13",
          "Rory Davies/paperC2/docC21",
          "Rory Davies/paperC2/docC22",
          "Rory Davies/paperC2/docC23",
          "Rory Davies/paperA1",
          "Rory Davies/paperA2",
          "Rory Davies/paperB1",
          "Rory Davies/paperB2",
          "Rory Davies/paperC1",
          "Rory Davies/paperC2",
          "Rory Davies"
         ],
         "labels": [
          "attachment",
          "attachment",
          "attachment",
          "attachment",
          "attachment",
          "attachment",
          "audio",
          "audio",
          "audio",
          "audio",
          "audio",
          "audio",
          "audio",
          "audio",
          "audio",
          "audio",
          "comment",
          "comment",
          "comment",
          "comment",
          "discussion",
          "discussion",
          "discussion",
          "image",
          "image",
          "image",
          "image",
          "image",
          "paragraph",
          "paragraph",
          "paragraph",
          "paragraph",
          "paragraph",
          "paragraph",
          "video",
          "video",
          "video",
          "video",
          "video",
          "docA11",
          "docA12",
          "docA13",
          "docA21",
          "docA22",
          "docA23",
          "docB11",
          "docB12",
          "docB13",
          "docB21",
          "docB22",
          "docC11",
          "docC12",
          "docC13",
          "docC21",
          "docC22",
          "docC23",
          "paperA1",
          "paperA2",
          "paperB1",
          "paperB2",
          "paperC1",
          "paperC2",
          "Rory Davies"
         ],
         "marker": {
          "coloraxis": "coloraxis",
          "colors": [
           1,
           1,
           1,
           1,
           1,
           1,
           1,
           2,
           1,
           1,
           1,
           1,
           1,
           1,
           1,
           1,
           1,
           1,
           1,
           1,
           1,
           1,
           1,
           1,
           1,
           1,
           2,
           1,
           2,
           2,
           1,
           1,
           1,
           1,
           1,
           1,
           1,
           2,
           1,
           1,
           2,
           2,
           2,
           4,
           2,
           3,
           3,
           1,
           2,
           3,
           5,
           2,
           1,
           3,
           5,
           3,
           5,
           8,
           7,
           5,
           8,
           11,
           44
          ]
         },
         "maxdepth": 3,
         "name": "",
         "parents": [
          "Rory Davies/paperA2/docA23",
          "Rory Davies/paperB1/docB12",
          "Rory Davies/paperB2/docB21",
          "Rory Davies/paperC1/docC12",
          "Rory Davies/paperC2/docC22",
          "Rory Davies/paperC2/docC23",
          "Rory Davies/paperA1/docA11",
          "Rory Davies/paperA1/docA12",
          "Rory Davies/paperA1/docA13",
          "Rory Davies/paperA2/docA22",
          "Rory Davies/paperA2/docA23",
          "Rory Davies/paperB1/docB11",
          "Rory Davies/paperB1/docB13",
          "Rory Davies/paperC1/docC11",
          "Rory Davies/paperC2/docC22",
          "Rory Davies/paperC2/docC23",
          "Rory Davies/paperA1/docA13",
          "Rory Davies/paperB2/docB22",
          "Rory Davies/paperC2/docC21",
          "Rory Davies/paperC2/docC22",
          "Rory Davies/paperB2/docB22",
          "Rory Davies/paperC1/docC11",
          "Rory Davies/paperC2/docC21",
          "Rory Davies/paperB1/docB11",
          "Rory Davies/paperB1/docB12",
          "Rory Davies/paperB2/docB21",
          "Rory Davies/paperC1/docC11",
          "Rory Davies/paperC2/docC21",
          "Rory Davies/paperA2/docA21",
          "Rory Davies/paperA2/docA22",
          "Rory Davies/paperB1/docB11",
          "Rory Davies/paperB2/docB22",
          "Rory Davies/paperC1/docC12",
          "Rory Davies/paperC1/docC13",
          "Rory Davies/paperA2/docA22",
          "Rory Davies/paperB1/docB12",
          "Rory Davies/paperC1/docC11",
          "Rory Davies/paperC2/docC22",
          "Rory Davies/paperC2/docC23",
          "Rory Davies/paperA1",
          "Rory Davies/paperA1",
          "Rory Davies/paperA1",
          "Rory Davies/paperA2",
          "Rory Davies/paperA2",
          "Rory Davies/paperA2",
          "Rory Davies/paperB1",
          "Rory Davies/paperB1",
          "Rory Davies/paperB1",
          "Rory Davies/paperB2",
          "Rory Davies/paperB2",
          "Rory Davies/paperC1",
          "Rory Davies/paperC1",
          "Rory Davies/paperC1",
          "Rory Davies/paperC2",
          "Rory Davies/paperC2",
          "Rory Davies/paperC2",
          "Rory Davies",
          "Rory Davies",
          "Rory Davies",
          "Rory Davies",
          "Rory Davies",
          "Rory Davies",
          ""
         ],
         "type": "sunburst",
         "values": [
          1,
          1,
          1,
          1,
          1,
          1,
          1,
          2,
          1,
          1,
          1,
          1,
          1,
          1,
          1,
          1,
          1,
          1,
          1,
          1,
          1,
          1,
          1,
          1,
          1,
          1,
          2,
          1,
          2,
          2,
          1,
          1,
          1,
          1,
          1,
          1,
          1,
          2,
          1,
          1,
          2,
          2,
          2,
          4,
          2,
          3,
          3,
          1,
          2,
          3,
          5,
          2,
          1,
          3,
          5,
          3,
          5,
          8,
          7,
          5,
          8,
          11,
          44
         ]
        }
       ],
       "layout": {
        "coloraxis": {
         "cmax": 20,
         "cmid": 1.1282051282051282,
         "cmin": 0,
         "colorbar": {
          "title": {
           "text": "count"
          }
         },
         "colorscale": [
          [
           0,
           "rgb(209, 238, 234)"
          ],
          [
           0.16666666666666666,
           "rgb(168, 219, 217)"
          ],
          [
           0.3333333333333333,
           "rgb(133, 196, 201)"
          ],
          [
           0.5,
           "rgb(104, 171, 184)"
          ],
          [
           0.6666666666666666,
           "rgb(79, 144, 166)"
          ],
          [
           0.8333333333333334,
           "rgb(59, 115, 143)"
          ],
          [
           1,
           "rgb(42, 86, 116)"
          ]
         ]
        },
        "legend": {
         "tracegroupgap": 0
        },
        "margin": {
         "t": 60
        },
        "template": {
         "data": {
          "bar": [
           {
            "error_x": {
             "color": "#2a3f5f"
            },
            "error_y": {
             "color": "#2a3f5f"
            },
            "marker": {
             "line": {
              "color": "#E5ECF6",
              "width": 0.5
             }
            },
            "type": "bar"
           }
          ],
          "barpolar": [
           {
            "marker": {
             "line": {
              "color": "#E5ECF6",
              "width": 0.5
             }
            },
            "type": "barpolar"
           }
          ],
          "carpet": [
           {
            "aaxis": {
             "endlinecolor": "#2a3f5f",
             "gridcolor": "white",
             "linecolor": "white",
             "minorgridcolor": "white",
             "startlinecolor": "#2a3f5f"
            },
            "baxis": {
             "endlinecolor": "#2a3f5f",
             "gridcolor": "white",
             "linecolor": "white",
             "minorgridcolor": "white",
             "startlinecolor": "#2a3f5f"
            },
            "type": "carpet"
           }
          ],
          "choropleth": [
           {
            "colorbar": {
             "outlinewidth": 0,
             "ticks": ""
            },
            "type": "choropleth"
           }
          ],
          "contour": [
           {
            "colorbar": {
             "outlinewidth": 0,
             "ticks": ""
            },
            "colorscale": [
             [
              0,
              "#0d0887"
             ],
             [
              0.1111111111111111,
              "#46039f"
             ],
             [
              0.2222222222222222,
              "#7201a8"
             ],
             [
              0.3333333333333333,
              "#9c179e"
             ],
             [
              0.4444444444444444,
              "#bd3786"
             ],
             [
              0.5555555555555556,
              "#d8576b"
             ],
             [
              0.6666666666666666,
              "#ed7953"
             ],
             [
              0.7777777777777778,
              "#fb9f3a"
             ],
             [
              0.8888888888888888,
              "#fdca26"
             ],
             [
              1,
              "#f0f921"
             ]
            ],
            "type": "contour"
           }
          ],
          "contourcarpet": [
           {
            "colorbar": {
             "outlinewidth": 0,
             "ticks": ""
            },
            "type": "contourcarpet"
           }
          ],
          "heatmap": [
           {
            "colorbar": {
             "outlinewidth": 0,
             "ticks": ""
            },
            "colorscale": [
             [
              0,
              "#0d0887"
             ],
             [
              0.1111111111111111,
              "#46039f"
             ],
             [
              0.2222222222222222,
              "#7201a8"
             ],
             [
              0.3333333333333333,
              "#9c179e"
             ],
             [
              0.4444444444444444,
              "#bd3786"
             ],
             [
              0.5555555555555556,
              "#d8576b"
             ],
             [
              0.6666666666666666,
              "#ed7953"
             ],
             [
              0.7777777777777778,
              "#fb9f3a"
             ],
             [
              0.8888888888888888,
              "#fdca26"
             ],
             [
              1,
              "#f0f921"
             ]
            ],
            "type": "heatmap"
           }
          ],
          "heatmapgl": [
           {
            "colorbar": {
             "outlinewidth": 0,
             "ticks": ""
            },
            "colorscale": [
             [
              0,
              "#0d0887"
             ],
             [
              0.1111111111111111,
              "#46039f"
             ],
             [
              0.2222222222222222,
              "#7201a8"
             ],
             [
              0.3333333333333333,
              "#9c179e"
             ],
             [
              0.4444444444444444,
              "#bd3786"
             ],
             [
              0.5555555555555556,
              "#d8576b"
             ],
             [
              0.6666666666666666,
              "#ed7953"
             ],
             [
              0.7777777777777778,
              "#fb9f3a"
             ],
             [
              0.8888888888888888,
              "#fdca26"
             ],
             [
              1,
              "#f0f921"
             ]
            ],
            "type": "heatmapgl"
           }
          ],
          "histogram": [
           {
            "marker": {
             "colorbar": {
              "outlinewidth": 0,
              "ticks": ""
             }
            },
            "type": "histogram"
           }
          ],
          "histogram2d": [
           {
            "colorbar": {
             "outlinewidth": 0,
             "ticks": ""
            },
            "colorscale": [
             [
              0,
              "#0d0887"
             ],
             [
              0.1111111111111111,
              "#46039f"
             ],
             [
              0.2222222222222222,
              "#7201a8"
             ],
             [
              0.3333333333333333,
              "#9c179e"
             ],
             [
              0.4444444444444444,
              "#bd3786"
             ],
             [
              0.5555555555555556,
              "#d8576b"
             ],
             [
              0.6666666666666666,
              "#ed7953"
             ],
             [
              0.7777777777777778,
              "#fb9f3a"
             ],
             [
              0.8888888888888888,
              "#fdca26"
             ],
             [
              1,
              "#f0f921"
             ]
            ],
            "type": "histogram2d"
           }
          ],
          "histogram2dcontour": [
           {
            "colorbar": {
             "outlinewidth": 0,
             "ticks": ""
            },
            "colorscale": [
             [
              0,
              "#0d0887"
             ],
             [
              0.1111111111111111,
              "#46039f"
             ],
             [
              0.2222222222222222,
              "#7201a8"
             ],
             [
              0.3333333333333333,
              "#9c179e"
             ],
             [
              0.4444444444444444,
              "#bd3786"
             ],
             [
              0.5555555555555556,
              "#d8576b"
             ],
             [
              0.6666666666666666,
              "#ed7953"
             ],
             [
              0.7777777777777778,
              "#fb9f3a"
             ],
             [
              0.8888888888888888,
              "#fdca26"
             ],
             [
              1,
              "#f0f921"
             ]
            ],
            "type": "histogram2dcontour"
           }
          ],
          "mesh3d": [
           {
            "colorbar": {
             "outlinewidth": 0,
             "ticks": ""
            },
            "type": "mesh3d"
           }
          ],
          "parcoords": [
           {
            "line": {
             "colorbar": {
              "outlinewidth": 0,
              "ticks": ""
             }
            },
            "type": "parcoords"
           }
          ],
          "pie": [
           {
            "automargin": true,
            "type": "pie"
           }
          ],
          "scatter": [
           {
            "marker": {
             "colorbar": {
              "outlinewidth": 0,
              "ticks": ""
             }
            },
            "type": "scatter"
           }
          ],
          "scatter3d": [
           {
            "line": {
             "colorbar": {
              "outlinewidth": 0,
              "ticks": ""
             }
            },
            "marker": {
             "colorbar": {
              "outlinewidth": 0,
              "ticks": ""
             }
            },
            "type": "scatter3d"
           }
          ],
          "scattercarpet": [
           {
            "marker": {
             "colorbar": {
              "outlinewidth": 0,
              "ticks": ""
             }
            },
            "type": "scattercarpet"
           }
          ],
          "scattergeo": [
           {
            "marker": {
             "colorbar": {
              "outlinewidth": 0,
              "ticks": ""
             }
            },
            "type": "scattergeo"
           }
          ],
          "scattergl": [
           {
            "marker": {
             "colorbar": {
              "outlinewidth": 0,
              "ticks": ""
             }
            },
            "type": "scattergl"
           }
          ],
          "scattermapbox": [
           {
            "marker": {
             "colorbar": {
              "outlinewidth": 0,
              "ticks": ""
             }
            },
            "type": "scattermapbox"
           }
          ],
          "scatterpolar": [
           {
            "marker": {
             "colorbar": {
              "outlinewidth": 0,
              "ticks": ""
             }
            },
            "type": "scatterpolar"
           }
          ],
          "scatterpolargl": [
           {
            "marker": {
             "colorbar": {
              "outlinewidth": 0,
              "ticks": ""
             }
            },
            "type": "scatterpolargl"
           }
          ],
          "scatterternary": [
           {
            "marker": {
             "colorbar": {
              "outlinewidth": 0,
              "ticks": ""
             }
            },
            "type": "scatterternary"
           }
          ],
          "surface": [
           {
            "colorbar": {
             "outlinewidth": 0,
             "ticks": ""
            },
            "colorscale": [
             [
              0,
              "#0d0887"
             ],
             [
              0.1111111111111111,
              "#46039f"
             ],
             [
              0.2222222222222222,
              "#7201a8"
             ],
             [
              0.3333333333333333,
              "#9c179e"
             ],
             [
              0.4444444444444444,
              "#bd3786"
             ],
             [
              0.5555555555555556,
              "#d8576b"
             ],
             [
              0.6666666666666666,
              "#ed7953"
             ],
             [
              0.7777777777777778,
              "#fb9f3a"
             ],
             [
              0.8888888888888888,
              "#fdca26"
             ],
             [
              1,
              "#f0f921"
             ]
            ],
            "type": "surface"
           }
          ],
          "table": [
           {
            "cells": {
             "fill": {
              "color": "#EBF0F8"
             },
             "line": {
              "color": "white"
             }
            },
            "header": {
             "fill": {
              "color": "#C8D4E3"
             },
             "line": {
              "color": "white"
             }
            },
            "type": "table"
           }
          ]
         },
         "layout": {
          "annotationdefaults": {
           "arrowcolor": "#2a3f5f",
           "arrowhead": 0,
           "arrowwidth": 1
          },
          "coloraxis": {
           "colorbar": {
            "outlinewidth": 0,
            "ticks": ""
           }
          },
          "colorscale": {
           "diverging": [
            [
             0,
             "#8e0152"
            ],
            [
             0.1,
             "#c51b7d"
            ],
            [
             0.2,
             "#de77ae"
            ],
            [
             0.3,
             "#f1b6da"
            ],
            [
             0.4,
             "#fde0ef"
            ],
            [
             0.5,
             "#f7f7f7"
            ],
            [
             0.6,
             "#e6f5d0"
            ],
            [
             0.7,
             "#b8e186"
            ],
            [
             0.8,
             "#7fbc41"
            ],
            [
             0.9,
             "#4d9221"
            ],
            [
             1,
             "#276419"
            ]
           ],
           "sequential": [
            [
             0,
             "#0d0887"
            ],
            [
             0.1111111111111111,
             "#46039f"
            ],
            [
             0.2222222222222222,
             "#7201a8"
            ],
            [
             0.3333333333333333,
             "#9c179e"
            ],
            [
             0.4444444444444444,
             "#bd3786"
            ],
            [
             0.5555555555555556,
             "#d8576b"
            ],
            [
             0.6666666666666666,
             "#ed7953"
            ],
            [
             0.7777777777777778,
             "#fb9f3a"
            ],
            [
             0.8888888888888888,
             "#fdca26"
            ],
            [
             1,
             "#f0f921"
            ]
           ],
           "sequentialminus": [
            [
             0,
             "#0d0887"
            ],
            [
             0.1111111111111111,
             "#46039f"
            ],
            [
             0.2222222222222222,
             "#7201a8"
            ],
            [
             0.3333333333333333,
             "#9c179e"
            ],
            [
             0.4444444444444444,
             "#bd3786"
            ],
            [
             0.5555555555555556,
             "#d8576b"
            ],
            [
             0.6666666666666666,
             "#ed7953"
            ],
            [
             0.7777777777777778,
             "#fb9f3a"
            ],
            [
             0.8888888888888888,
             "#fdca26"
            ],
            [
             1,
             "#f0f921"
            ]
           ]
          },
          "colorway": [
           "#636efa",
           "#EF553B",
           "#00cc96",
           "#ab63fa",
           "#FFA15A",
           "#19d3f3",
           "#FF6692",
           "#B6E880",
           "#FF97FF",
           "#FECB52"
          ],
          "font": {
           "color": "#2a3f5f"
          },
          "geo": {
           "bgcolor": "white",
           "lakecolor": "white",
           "landcolor": "#E5ECF6",
           "showlakes": true,
           "showland": true,
           "subunitcolor": "white"
          },
          "hoverlabel": {
           "align": "left"
          },
          "hovermode": "closest",
          "mapbox": {
           "style": "light"
          },
          "paper_bgcolor": "white",
          "plot_bgcolor": "#E5ECF6",
          "polar": {
           "angularaxis": {
            "gridcolor": "white",
            "linecolor": "white",
            "ticks": ""
           },
           "bgcolor": "#E5ECF6",
           "radialaxis": {
            "gridcolor": "white",
            "linecolor": "white",
            "ticks": ""
           }
          },
          "scene": {
           "xaxis": {
            "backgroundcolor": "#E5ECF6",
            "gridcolor": "white",
            "gridwidth": 2,
            "linecolor": "white",
            "showbackground": true,
            "ticks": "",
            "zerolinecolor": "white"
           },
           "yaxis": {
            "backgroundcolor": "#E5ECF6",
            "gridcolor": "white",
            "gridwidth": 2,
            "linecolor": "white",
            "showbackground": true,
            "ticks": "",
            "zerolinecolor": "white"
           },
           "zaxis": {
            "backgroundcolor": "#E5ECF6",
            "gridcolor": "white",
            "gridwidth": 2,
            "linecolor": "white",
            "showbackground": true,
            "ticks": "",
            "zerolinecolor": "white"
           }
          },
          "shapedefaults": {
           "line": {
            "color": "#2a3f5f"
           }
          },
          "ternary": {
           "aaxis": {
            "gridcolor": "white",
            "linecolor": "white",
            "ticks": ""
           },
           "baxis": {
            "gridcolor": "white",
            "linecolor": "white",
            "ticks": ""
           },
           "bgcolor": "#E5ECF6",
           "caxis": {
            "gridcolor": "white",
            "linecolor": "white",
            "ticks": ""
           }
          },
          "title": {
           "x": 0.05
          },
          "xaxis": {
           "automargin": true,
           "gridcolor": "white",
           "linecolor": "white",
           "ticks": "",
           "title": {
            "standoff": 15
           },
           "zerolinecolor": "white",
           "zerolinewidth": 2
          },
          "yaxis": {
           "automargin": true,
           "gridcolor": "white",
           "linecolor": "white",
           "ticks": "",
           "title": {
            "standoff": 15
           },
           "zerolinecolor": "white",
           "zerolinewidth": 2
          }
         }
        }
       }
      }
     },
     "metadata": {}
    }
   ],
   "source": [
    "from queries import make_queries_get_df\n",
    "import pandas as pd\n",
    "import plotly.express as px\n",
    "\n",
    "contributions_of_student_2_df = make_queries_get_df('''\n",
    "SELECT author_full_name, paper_id, document_id, type, count(type) as count\n",
    "FROM component_by_author_id\n",
    "WHERE author_id = '2'\n",
    "GROUP BY course_id, paper_id, document_id, type;\n",
    "''')\n",
    "\n",
    "#generate the figure object\n",
    "\n",
    "contributions_of_student_2_df_fig = px.sunburst(contributions_of_student_2_df,\n",
    "                                             path=['author_full_name', 'paper_id', 'document_id', 'type'],\n",
    "                                             values='count',\n",
    "                                             color='count',\n",
    "                                             color_continuous_midpoint=contributions_of_student_2_df['count'].mean(),\n",
    "                                             range_color=[0,20],\n",
    "                                             color_continuous_scale='teal',\n",
    "                                             maxdepth=3,)\n",
    "\n",
    "contributions_of_student_2_df_fig.update_traces(hovertemplate='<b>%{label}</b><br><br>Count: %{value}')\n",
    "contributions_of_student_2_df_fig.show()"
   ]
  },
  {
   "cell_type": "markdown",
   "metadata": {},
   "source": [
    "### Example 2: Finding Uncited Sources\n",
    "\n",
    "A student may wish to add missing references to their contributions as an academic requirement and good practice. It would be handy to get a report of which of their contributions need citation and where they can be found.\n",
    "\n",
    "Our current *component* table does not support direct filtering on 'source', but a materialized view can take an extra primary key and this is a good use case.\n",
    "\n",
    "Ideally, the table should return all contributions whose 'source' is missing from a user_id. The result should also contain the whereabouts of them so that a user/student can quickly navigate.\n",
    "\n",
    "### Create a materialized view with *source* as primary key\n",
    "\n",
    "Here's the CQL statement.\n",
    "\n",
    "// create a materialized view for identifying missing source\n",
    "\n",
    "CREATE MATERIALIZED VIEW component_source_by_author_id AS SELECT * FROM component <br>\n",
    "WHERE course_id IS NOT NULL <br>\n",
    "AND paper_id IS NOT NULL <br>\n",
    "AND document_id IS NOT NULL <br>\n",
    "AND type IS NOT NULL <br>\n",
    "AND author_id IS NOT NULL <br>\n",
    "AND time_added IS NOT NULL <br>\n",
    "AND source IS NOT NULL <br> <small>(the extra primary key)</small><br>\n",
    "PRIMARY KEY (author_id, source, course_id, paper_id, document_id, type, time_added);"
   ]
  },
  {
   "cell_type": "markdown",
   "metadata": {},
   "source": [
    "Notice the order of the new primary key. Since we imagine that a user may want to know a list uncited contributions, we map the query to the order of the primary key components. \n",
    "\n",
    "This design also illustrates how Cassandra tables should be conceived, as what comes after, not before the queries.\n",
    "\n",
    "### The Code\n",
    "\n",
    "Similar to other examples, we first extract the data, and then visualise it with an appropriate visual."
   ]
  },
  {
   "cell_type": "code",
   "execution_count": 43,
   "metadata": {},
   "outputs": [
    {
     "output_type": "execute_result",
     "data": {
      "text/plain": "   document_id        type   status  time_added\n0       docA13       audio  missing  2020-03-01\n1       docA21  attachment  missing  2020-01-23\n2       docA23       audio  missing  2020-01-17\n3       docB12  attachment  missing  2020-04-30\n4       docB13  attachment  missing  2020-02-16\n5       docB21  attachment  missing  2020-03-06\n6       docC11       image  missing  2020-04-04\n7       docC12  attachment  missing  2020-04-01\n8       docC13       image  missing  2020-02-14\n9       docC21       image  missing  2020-01-09\n10      docC22  attachment  missing  2020-01-15\n11      docC23  attachment  missing  2020-04-17",
      "text/html": "<div>\n<style scoped>\n    .dataframe tbody tr th:only-of-type {\n        vertical-align: middle;\n    }\n\n    .dataframe tbody tr th {\n        vertical-align: top;\n    }\n\n    .dataframe thead th {\n        text-align: right;\n    }\n</style>\n<table border=\"1\" class=\"dataframe\">\n  <thead>\n    <tr style=\"text-align: right;\">\n      <th></th>\n      <th>document_id</th>\n      <th>type</th>\n      <th>status</th>\n      <th>time_added</th>\n    </tr>\n  </thead>\n  <tbody>\n    <tr>\n      <th>0</th>\n      <td>docA13</td>\n      <td>audio</td>\n      <td>missing</td>\n      <td>2020-03-01</td>\n    </tr>\n    <tr>\n      <th>1</th>\n      <td>docA21</td>\n      <td>attachment</td>\n      <td>missing</td>\n      <td>2020-01-23</td>\n    </tr>\n    <tr>\n      <th>2</th>\n      <td>docA23</td>\n      <td>audio</td>\n      <td>missing</td>\n      <td>2020-01-17</td>\n    </tr>\n    <tr>\n      <th>3</th>\n      <td>docB12</td>\n      <td>attachment</td>\n      <td>missing</td>\n      <td>2020-04-30</td>\n    </tr>\n    <tr>\n      <th>4</th>\n      <td>docB13</td>\n      <td>attachment</td>\n      <td>missing</td>\n      <td>2020-02-16</td>\n    </tr>\n    <tr>\n      <th>5</th>\n      <td>docB21</td>\n      <td>attachment</td>\n      <td>missing</td>\n      <td>2020-03-06</td>\n    </tr>\n    <tr>\n      <th>6</th>\n      <td>docC11</td>\n      <td>image</td>\n      <td>missing</td>\n      <td>2020-04-04</td>\n    </tr>\n    <tr>\n      <th>7</th>\n      <td>docC12</td>\n      <td>attachment</td>\n      <td>missing</td>\n      <td>2020-04-01</td>\n    </tr>\n    <tr>\n      <th>8</th>\n      <td>docC13</td>\n      <td>image</td>\n      <td>missing</td>\n      <td>2020-02-14</td>\n    </tr>\n    <tr>\n      <th>9</th>\n      <td>docC21</td>\n      <td>image</td>\n      <td>missing</td>\n      <td>2020-01-09</td>\n    </tr>\n    <tr>\n      <th>10</th>\n      <td>docC22</td>\n      <td>attachment</td>\n      <td>missing</td>\n      <td>2020-01-15</td>\n    </tr>\n    <tr>\n      <th>11</th>\n      <td>docC23</td>\n      <td>attachment</td>\n      <td>missing</td>\n      <td>2020-04-17</td>\n    </tr>\n  </tbody>\n</table>\n</div>"
     },
     "metadata": {},
     "execution_count": 43
    }
   ],
   "source": [
    "from queries import make_queries_get_df\n",
    "\n",
    "uncited_contributions_of_Tom = make_queries_get_df('''\n",
    "SELECT document_id, type, source as status, time_added\n",
    "FROM component_source_by_author_id\n",
    "WHERE author_id = '8'\n",
    "AND source = 'missing'\n",
    "GROUP BY course_id, paper_id, document_id;\n",
    "''')\n",
    "\n",
    "uncited_contributions_of_Tom"
   ]
  },
  {
   "cell_type": "markdown",
   "metadata": {},
   "source": [
    "The result looks promising (or rather frustrating for Tom), but it doesn't allow him to jump inside a document to fix things. This is because our test table does not contain an actual *document_id* or *component_id* (substituted by *time_added*). \n",
    "\n",
    "These ids can in turn serve as breadcrumbs as there could be a table that records the location of a component by its id (like a URL). We can also include this attribute inside our *component* table."
   ]
  },
  {
   "cell_type": "markdown",
   "metadata": {},
   "source": [
    "### NAVIGATION QUERIES\n",
    "\n",
    "As of the momement, the ob3 platform could greatly improve the experience of users alike by adding navigation breadcrumbs of various forms to their client side. The following tables are some suggestions toward that goal, with a focus on students as users.\n",
    "\n",
    "## Bookmarked, Favorite, and Annotated Components\n",
    "\n",
    "Instead of searching through each document in each paper for marked materials, students should be able to easily locate their desired materials through a sidebar tab showing the list of all of their bookmarks, favorites, and notes, plus links to these places. \n",
    "\n",
    "This means there should be a table containing such information for each student, and the list should be sorted by document and paper. In CQL terms, our create table statement could look something like this:\n",
    "\n",
    "CREATE TABLE marked_component_by_user_id ( <br>\n",
    "    user_id TEXT,  <br>\n",
    "    paper_id TEXT,  <br>\n",
    "    doc_id TEXT,  <br>\n",
    "    bookmarked map<timeuuid, text>,  <br>\n",
    "    favorite map<timeuuid, text>,  <br>\n",
    "    annotated map<timeuuid, text>,  <br>\n",
    "    PRIMARY KEY ((user_id, paper_id),  <br>\n",
    "    doc_id));  <br>\n",
    "\n",
    "Using Cassandra built-in collection type map, we can store a map where for each element, the key is the component id and the value is the link to it. There should also be three separate maps for each type of interaction.\n",
    "\n",
    "Note that when updating the table, we should use CQL's *UPDATE ... SET ... field = field +/- element key + value* instead of *INSERT INTO ... VALUES*, since the latter would replace the old map with a new one. The first, however, simply append or remove an element from the map.  \n",
    "\n",
    "Let's look at the result from such a table for user_id = '2' who's interested in checking out all the components that they have interacted with in a paper, grouped by document.\n",
    "## "
   ]
  },
  {
   "cell_type": "code",
   "execution_count": 45,
   "metadata": {},
   "outputs": [
    {
     "output_type": "execute_result",
     "data": {
      "text/plain": "  doc_id                                         bookmarked  \\\n0  docB1  {'bookmarked1': 'URL', 'bookmarked2': 'URL', '...   \n1  docB2  {'bookmarked1': 'URL', 'bookmarked2': 'URL', '...   \n\n                                            favorite  \\\n0  {'favorite1': 'URL', 'favorite2': 'URL', 'favo...   \n1  {'favorite1': 'URL', 'favorite2': 'URL', 'favo...   \n\n                                           annotated  \n0  {'annotated1': 'URL', 'annotated2': 'URL', 'an...  \n1         {'annotated1': 'URL', 'annotated2': 'URL'}  ",
      "text/html": "<div>\n<style scoped>\n    .dataframe tbody tr th:only-of-type {\n        vertical-align: middle;\n    }\n\n    .dataframe tbody tr th {\n        vertical-align: top;\n    }\n\n    .dataframe thead th {\n        text-align: right;\n    }\n</style>\n<table border=\"1\" class=\"dataframe\">\n  <thead>\n    <tr style=\"text-align: right;\">\n      <th></th>\n      <th>doc_id</th>\n      <th>bookmarked</th>\n      <th>favorite</th>\n      <th>annotated</th>\n    </tr>\n  </thead>\n  <tbody>\n    <tr>\n      <th>0</th>\n      <td>docB1</td>\n      <td>{'bookmarked1': 'URL', 'bookmarked2': 'URL', '...</td>\n      <td>{'favorite1': 'URL', 'favorite2': 'URL', 'favo...</td>\n      <td>{'annotated1': 'URL', 'annotated2': 'URL', 'an...</td>\n    </tr>\n    <tr>\n      <th>1</th>\n      <td>docB2</td>\n      <td>{'bookmarked1': 'URL', 'bookmarked2': 'URL', '...</td>\n      <td>{'favorite1': 'URL', 'favorite2': 'URL', 'favo...</td>\n      <td>{'annotated1': 'URL', 'annotated2': 'URL'}</td>\n    </tr>\n  </tbody>\n</table>\n</div>"
     },
     "metadata": {},
     "execution_count": 45
    }
   ],
   "source": [
    "# since we're getting Cassandra's map type as result, we need to import some special function that helps with processing the result into a dataframe.\n",
    "\n",
    "from cloud import session\n",
    "from pandas_factory import pandas_factory\n",
    "session.row_factory = pandas_factory\n",
    "\n",
    "query = '''\n",
    "SELECT doc_id, bookmarked, favorite, annotated \n",
    "FROM marked_component_by_user_id\n",
    "WHERE user_id = '2' \n",
    "AND paper_id = 'paperB' \n",
    "GROUP BY doc_id;\n",
    "'''\n",
    "\n",
    "result = session.execute(query, timeout=None)\n",
    "marked_component_of_user_2_df = result._current_rows\n",
    "\n",
    "marked_component_of_user_2_df"
   ]
  },
  {
   "cell_type": "markdown",
   "metadata": {},
   "source": [
    "Notice that in production the key of each entry in each dictionary will be the id of the component that was marked by the user, and the URL will be the actual URL leading to the component itself. \n",
    "\n",
    "Since *doc_id* is also one of the clustering key, we can filter the result by a document name in case the user wants to get these items within a document rather than a paper."
   ]
  },
  {
   "cell_type": "code",
   "execution_count": 44,
   "metadata": {},
   "outputs": [
    {
     "output_type": "execute_result",
     "data": {
      "text/plain": "  doc_id                                         bookmarked  \\\n0  docB1  {'bookmarked1': 'URL', 'bookmarked2': 'URL', '...   \n\n                                            favorite  \\\n0  {'favorite1': 'URL', 'favorite2': 'URL', 'favo...   \n\n                                           annotated  \n0  {'annotated1': 'URL', 'annotated2': 'URL', 'an...  ",
      "text/html": "<div>\n<style scoped>\n    .dataframe tbody tr th:only-of-type {\n        vertical-align: middle;\n    }\n\n    .dataframe tbody tr th {\n        vertical-align: top;\n    }\n\n    .dataframe thead th {\n        text-align: right;\n    }\n</style>\n<table border=\"1\" class=\"dataframe\">\n  <thead>\n    <tr style=\"text-align: right;\">\n      <th></th>\n      <th>doc_id</th>\n      <th>bookmarked</th>\n      <th>favorite</th>\n      <th>annotated</th>\n    </tr>\n  </thead>\n  <tbody>\n    <tr>\n      <th>0</th>\n      <td>docB1</td>\n      <td>{'bookmarked1': 'URL', 'bookmarked2': 'URL', '...</td>\n      <td>{'favorite1': 'URL', 'favorite2': 'URL', 'favo...</td>\n      <td>{'annotated1': 'URL', 'annotated2': 'URL', 'an...</td>\n    </tr>\n  </tbody>\n</table>\n</div>"
     },
     "metadata": {},
     "execution_count": 44
    }
   ],
   "source": [
    "from cloud import session\n",
    "from pandas_factory import pandas_factory\n",
    "session.row_factory = pandas_factory\n",
    "\n",
    "query = '''\n",
    "SELECT doc_id, bookmarked, favorite, annotated \n",
    "FROM marked_component_by_user_id\n",
    "WHERE user_id = '2' \n",
    "AND paper_id = 'paperB' \n",
    "AND doc_id = 'docB1';\n",
    "'''\n",
    "\n",
    "result = session.execute(query, timeout=None)\n",
    "marked_component_of_user_2_in_docB1_df = result._current_rows\n",
    "\n",
    "marked_component_of_user_2_in_docB1_df"
   ]
  },
  {
   "cell_type": "markdown",
   "metadata": {},
   "source": []
  }
 ],
 "metadata": {
  "language_info": {
   "codemirror_mode": {
    "name": "ipython",
    "version": 3
   },
   "file_extension": ".py",
   "mimetype": "text/x-python",
   "name": "python",
   "nbconvert_exporter": "python",
   "pygments_lexer": "ipython3",
   "version": "3.8.3-final"
  },
  "orig_nbformat": 2,
  "kernelspec": {
   "language": "python",
   "name": "python38364bit2021e240fa0b450c871765cfc61481f0",
   "display_name": "Python 3.8.3 64-bit"
  }
 },
 "nbformat": 4,
 "nbformat_minor": 2
}