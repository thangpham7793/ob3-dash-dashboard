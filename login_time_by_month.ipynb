{
 "cells": [
  {
   "cell_type": "code",
   "execution_count": 6,
   "metadata": {},
   "outputs": [],
   "source": [
    "import pandas as pd\n",
    "import json\n",
    "from cloud import session\n",
    "import chart_helper\n",
    "import plotly.express as px\n",
    "import datetime"
   ]
  },
  {
   "cell_type": "code",
   "execution_count": 7,
   "metadata": {},
   "outputs": [],
   "source": [
    "from queries_dict import admin_queries\n",
    "from pandas import DataFrame\n",
    "\n",
    "logins_df = DataFrame(session.execute(admin_queries['logins_over_time'], [1]))\n",
    "usage_df = DataFrame(session.execute(admin_queries['data_usage_by_month'], [1]))"
   ]
  },
  {
   "cell_type": "code",
   "execution_count": 8,
   "metadata": {},
   "outputs": [
    {
     "output_type": "execute_result",
     "data": {
      "text/plain": "28"
     },
     "metadata": {},
     "execution_count": 8
    }
   ],
   "source": [
    "len(logins_df[logins_df['new_user'] == True])"
   ]
  },
  {
   "cell_type": "code",
   "execution_count": 10,
   "metadata": {},
   "outputs": [],
   "source": [
    "def get_total_active_new_users_by_association(jsonified_df, association):\n",
    "  filtered_df = chart_helper.filter_data_by_association(jsonified_df, association)\n",
    "  total_new_users = len(filtered_df[filtered_df['new_user'] == True])\n",
    "  return total_new_users"
   ]
  },
  {
   "cell_type": "code",
   "execution_count": 16,
   "metadata": {},
   "outputs": [
    {
     "output_type": "execute_result",
     "data": {
      "text/plain": "   association course_id  paper_id        type  size_in_mb\n0         uniA  courseA1  paperA11  attachment       1.658\n1         uniA  courseA1  paperA11       audio       1.117\n2         uniA  courseA1  paperA12  attachment       0.337\n3         uniA  courseA1  paperA12       image       1.326\n4         uniA  courseA1  paperA12       video       1.389\n..         ...       ...       ...         ...         ...\n58        uniC  courseC2  paperC22       image       0.778\n59        uniC  courseC2  paperC22       video       0.392\n60        uniC  courseC2  paperC23  attachment       0.234\n61        uniC  courseC2  paperC23       audio       0.970\n62        uniC  courseC2  paperC23       image       1.977\n\n[63 rows x 5 columns]",
      "text/html": "<div>\n<style scoped>\n    .dataframe tbody tr th:only-of-type {\n        vertical-align: middle;\n    }\n\n    .dataframe tbody tr th {\n        vertical-align: top;\n    }\n\n    .dataframe thead th {\n        text-align: right;\n    }\n</style>\n<table border=\"1\" class=\"dataframe\">\n  <thead>\n    <tr style=\"text-align: right;\">\n      <th></th>\n      <th>association</th>\n      <th>course_id</th>\n      <th>paper_id</th>\n      <th>type</th>\n      <th>size_in_mb</th>\n    </tr>\n  </thead>\n  <tbody>\n    <tr>\n      <th>0</th>\n      <td>uniA</td>\n      <td>courseA1</td>\n      <td>paperA11</td>\n      <td>attachment</td>\n      <td>1.658</td>\n    </tr>\n    <tr>\n      <th>1</th>\n      <td>uniA</td>\n      <td>courseA1</td>\n      <td>paperA11</td>\n      <td>audio</td>\n      <td>1.117</td>\n    </tr>\n    <tr>\n      <th>2</th>\n      <td>uniA</td>\n      <td>courseA1</td>\n      <td>paperA12</td>\n      <td>attachment</td>\n      <td>0.337</td>\n    </tr>\n    <tr>\n      <th>3</th>\n      <td>uniA</td>\n      <td>courseA1</td>\n      <td>paperA12</td>\n      <td>image</td>\n      <td>1.326</td>\n    </tr>\n    <tr>\n      <th>4</th>\n      <td>uniA</td>\n      <td>courseA1</td>\n      <td>paperA12</td>\n      <td>video</td>\n      <td>1.389</td>\n    </tr>\n    <tr>\n      <th>...</th>\n      <td>...</td>\n      <td>...</td>\n      <td>...</td>\n      <td>...</td>\n      <td>...</td>\n    </tr>\n    <tr>\n      <th>58</th>\n      <td>uniC</td>\n      <td>courseC2</td>\n      <td>paperC22</td>\n      <td>image</td>\n      <td>0.778</td>\n    </tr>\n    <tr>\n      <th>59</th>\n      <td>uniC</td>\n      <td>courseC2</td>\n      <td>paperC22</td>\n      <td>video</td>\n      <td>0.392</td>\n    </tr>\n    <tr>\n      <th>60</th>\n      <td>uniC</td>\n      <td>courseC2</td>\n      <td>paperC23</td>\n      <td>attachment</td>\n      <td>0.234</td>\n    </tr>\n    <tr>\n      <th>61</th>\n      <td>uniC</td>\n      <td>courseC2</td>\n      <td>paperC23</td>\n      <td>audio</td>\n      <td>0.970</td>\n    </tr>\n    <tr>\n      <th>62</th>\n      <td>uniC</td>\n      <td>courseC2</td>\n      <td>paperC23</td>\n      <td>image</td>\n      <td>1.977</td>\n    </tr>\n  </tbody>\n</table>\n<p>63 rows × 5 columns</p>\n</div>"
     },
     "metadata": {},
     "execution_count": 16
    }
   ],
   "source": [
    "usage_df"
   ]
  },
  {
   "cell_type": "code",
   "execution_count": 17,
   "metadata": {},
   "outputs": [
    {
     "output_type": "execute_result",
     "data": {
      "text/plain": "63"
     },
     "metadata": {},
     "execution_count": 17
    }
   ],
   "source": [
    "len(usage_df)"
   ]
  },
  {
   "cell_type": "code",
   "execution_count": null,
   "metadata": {},
   "outputs": [],
   "source": []
  }
 ],
 "metadata": {
  "language_info": {
   "codemirror_mode": {
    "name": "ipython",
    "version": 3
   },
   "file_extension": ".py",
   "mimetype": "text/x-python",
   "name": "python",
   "nbconvert_exporter": "python",
   "pygments_lexer": "ipython3",
   "version": "3.8.3-final"
  },
  "orig_nbformat": 2,
  "kernelspec": {
   "language": "Python",
   "name": "python38364bit2021e240fa0b450c871765cfc61481f0",
   "display_name": "Python 3.8.3 64-bit"
  }
 },
 "nbformat": 4,
 "nbformat_minor": 2
}